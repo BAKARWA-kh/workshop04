{
  "cells": [
    {
      "cell_type": "markdown",
      "metadata": {
        "id": "view-in-github",
        "colab_type": "text"
      },
      "source": [
        "<a href=\"https://colab.research.google.com/github/BAKARWA-kh/workshop04/blob/main/Rendements_boursiers_et_Volatilit%C3%A9_(SP500_%26_VIX)_.ipynb\" target=\"_parent\"><img src=\"https://colab.research.google.com/assets/colab-badge.svg\" alt=\"Open In Colab\"/></a>"
      ]
    },
    {
      "cell_type": "markdown",
      "metadata": {
        "id": "9obMwU_FD-cd"
      },
      "source": [
        "## Objectif : Étudier la relation dynamique entre les rendements du SP500, l’indice VIX et les volumes."
      ]
    },
    {
      "cell_type": "code",
      "execution_count": null,
      "metadata": {
        "colab": {
          "base_uri": "https://localhost:8080/"
        },
        "id": "xtKFA4yFvRUe",
        "outputId": "4c7ca893-2baf-40c0-ef66-c4a06237c742"
      },
      "outputs": [
        {
          "name": "stdout",
          "output_type": "stream",
          "text": [
            "Requirement already satisfied: yfinance in /usr/local/lib/python3.11/dist-packages (0.2.55)\n",
            "Requirement already satisfied: openpyxl in /usr/local/lib/python3.11/dist-packages (3.1.5)\n",
            "Requirement already satisfied: pandas>=1.3.0 in /usr/local/lib/python3.11/dist-packages (from yfinance) (2.2.2)\n",
            "Requirement already satisfied: numpy>=1.16.5 in /usr/local/lib/python3.11/dist-packages (from yfinance) (2.0.2)\n",
            "Requirement already satisfied: requests>=2.31 in /usr/local/lib/python3.11/dist-packages (from yfinance) (2.32.3)\n",
            "Requirement already satisfied: multitasking>=0.0.7 in /usr/local/lib/python3.11/dist-packages (from yfinance) (0.0.11)\n",
            "Requirement already satisfied: platformdirs>=2.0.0 in /usr/local/lib/python3.11/dist-packages (from yfinance) (4.3.7)\n",
            "Requirement already satisfied: pytz>=2022.5 in /usr/local/lib/python3.11/dist-packages (from yfinance) (2025.2)\n",
            "Requirement already satisfied: frozendict>=2.3.4 in /usr/local/lib/python3.11/dist-packages (from yfinance) (2.4.6)\n",
            "Requirement already satisfied: peewee>=3.16.2 in /usr/local/lib/python3.11/dist-packages (from yfinance) (3.17.9)\n",
            "Requirement already satisfied: beautifulsoup4>=4.11.1 in /usr/local/lib/python3.11/dist-packages (from yfinance) (4.13.4)\n",
            "Requirement already satisfied: et-xmlfile in /usr/local/lib/python3.11/dist-packages (from openpyxl) (2.0.0)\n",
            "Requirement already satisfied: soupsieve>1.2 in /usr/local/lib/python3.11/dist-packages (from beautifulsoup4>=4.11.1->yfinance) (2.7)\n",
            "Requirement already satisfied: typing-extensions>=4.0.0 in /usr/local/lib/python3.11/dist-packages (from beautifulsoup4>=4.11.1->yfinance) (4.13.2)\n",
            "Requirement already satisfied: python-dateutil>=2.8.2 in /usr/local/lib/python3.11/dist-packages (from pandas>=1.3.0->yfinance) (2.8.2)\n",
            "Requirement already satisfied: tzdata>=2022.7 in /usr/local/lib/python3.11/dist-packages (from pandas>=1.3.0->yfinance) (2025.2)\n",
            "Requirement already satisfied: charset-normalizer<4,>=2 in /usr/local/lib/python3.11/dist-packages (from requests>=2.31->yfinance) (3.4.1)\n",
            "Requirement already satisfied: idna<4,>=2.5 in /usr/local/lib/python3.11/dist-packages (from requests>=2.31->yfinance) (3.10)\n",
            "Requirement already satisfied: urllib3<3,>=1.21.1 in /usr/local/lib/python3.11/dist-packages (from requests>=2.31->yfinance) (2.3.0)\n",
            "Requirement already satisfied: certifi>=2017.4.17 in /usr/local/lib/python3.11/dist-packages (from requests>=2.31->yfinance) (2025.1.31)\n",
            "Requirement already satisfied: six>=1.5 in /usr/local/lib/python3.11/dist-packages (from python-dateutil>=2.8.2->pandas>=1.3.0->yfinance) (1.17.0)\n"
          ]
        }
      ],
      "source": [
        "# ✅ Installer la bibliothèque yfinance (une seule fois)\n",
        "!pip install yfinance openpyxl"
      ]
    },
    {
      "cell_type": "code",
      "execution_count": null,
      "metadata": {
        "id": "5YELqw0xrmmg"
      },
      "outputs": [],
      "source": [
        "# 📚 Importer les bibliothèques\n",
        "import yfinance as yf\n",
        "import pandas as pd\n"
      ]
    },
    {
      "cell_type": "code",
      "execution_count": null,
      "metadata": {
        "colab": {
          "base_uri": "https://localhost:8080/"
        },
        "id": "sUJW0pLXrmKm",
        "outputId": "3c67cb33-048e-4553-c83c-2093189939e6"
      },
      "outputs": [
        {
          "name": "stdout",
          "output_type": "stream",
          "text": [
            "YF.download() has changed argument auto_adjust default to True\n"
          ]
        },
        {
          "name": "stderr",
          "output_type": "stream",
          "text": [
            "[*********************100%***********************]  1 of 1 completed\n",
            "[*********************100%***********************]  1 of 1 completed\n"
          ]
        }
      ],
      "source": [
        "# 📅 Définir la période d'analyse\n",
        "start_date = \"2015-01-01\"\n",
        "end_date = \"2024-12-31\"\n",
        "# 📥 Télécharger les données depuis Yahoo Finance\n",
        "sp500 = yf.download('^GSPC', start=start_date, end=end_date)\n",
        "vix = yf.download('^VIX', start=start_date, end=end_date)\n"
      ]
    },
    {
      "cell_type": "code",
      "execution_count": null,
      "metadata": {
        "colab": {
          "base_uri": "https://localhost:8080/"
        },
        "id": "ZV52x35bEueQ",
        "outputId": "475880b7-ba68-4fd3-c195-f41c052c8dc6"
      },
      "outputs": [
        {
          "name": "stdout",
          "output_type": "stream",
          "text": [
            "SP500:\n",
            "SP500:\n",
            "Price             Close         High          Low         Open      Volume\n",
            "Ticker            ^GSPC        ^GSPC        ^GSPC        ^GSPC       ^GSPC\n",
            "Date                                                                      \n",
            "2015-01-02  2058.199951  2072.360107  2046.040039  2058.899902  2708700000\n",
            "2015-01-05  2020.579956  2054.439941  2017.339966  2054.439941  3799120000\n",
            "2015-01-06  2002.609985  2030.250000  1992.439941  2022.150024  4460110000\n",
            "2015-01-07  2025.900024  2029.609985  2005.550049  2005.550049  3805480000\n",
            "2015-01-08  2062.139893  2064.080078  2030.609985  2030.609985  3934010000\n",
            "\n",
            "VIX:\n",
            "Price           Close       High        Low       Open Volume\n",
            "Ticker           ^VIX       ^VIX       ^VIX       ^VIX   ^VIX\n",
            "Date                                                         \n",
            "2015-01-02  17.790001  20.139999  17.049999  17.760000      0\n",
            "2015-01-05  19.920000  21.290001  19.190001  19.190001      0\n",
            "2015-01-06  21.120001  22.900000  19.520000  20.330000      0\n",
            "2015-01-07  19.309999  20.719999  19.040001  20.150000      0\n",
            "2015-01-08  17.010000  18.090000  16.990000  17.930000      0\n"
          ]
        }
      ],
      "source": [
        "# 🔍 Afficher un aperçu\n",
        "print(\"SP500:\")\n",
        "# 🔍 Afficher un aperçu\n",
        "print(\"SP500:\")\n",
        "print(sp500.head())\n",
        "print(\"\\nVIX:\")\n",
        "print(vix.head())"
      ]
    },
    {
      "cell_type": "code",
      "execution_count": null,
      "metadata": {
        "id": "7u-IKudGE9Wz"
      },
      "outputs": [],
      "source": [
        "# Enregistrer les données dans des fichiers Excel\n",
        "sp500.to_excel(\"SP500_data.xlsx\")\n",
        "vix.to_excel(\"VIX_data.xlsx\")\n"
      ]
    },
    {
      "cell_type": "code",
      "execution_count": null,
      "metadata": {
        "colab": {
          "base_uri": "https://localhost:8080/",
          "height": 106
        },
        "id": "7VSTK6DHFBrt",
        "outputId": "5c467c09-dba1-4023-c9bf-dcc05a3e6c5e"
      },
      "outputs": [
        {
          "ename": "ERROR",
          "evalue": "Error in parse(text = input): <text>:1:6: unexpected symbol\n1: from google.colab\n         ^\n",
          "output_type": "error",
          "traceback": [
            "Error in parse(text = input): <text>:1:6: unexpected symbol\n1: from google.colab\n         ^\nTraceback:\n"
          ]
        }
      ],
      "source": [
        "from google.colab import files\n",
        "\n",
        "# Télécharger les fichiers Excel\n",
        "files.download(\"SP500_data.xlsx\")\n",
        "files.download(\"VIX_data.xlsx\")\n"
      ]
    },
    {
      "cell_type": "markdown",
      "metadata": {
        "id": "MBG6Pa8wy9x6"
      },
      "source": [
        "# Nouvelle section"
      ]
    },
    {
      "cell_type": "markdown",
      "metadata": {
        "id": "A_updVyPy_w0"
      },
      "source": []
    },
    {
      "cell_type": "code",
      "execution_count": 14,
      "metadata": {
        "colab": {
          "base_uri": "https://localhost:8080/"
        },
        "id": "14Q9b4pUWEQQ",
        "outputId": "d1a3cd6f-d19e-4f30-837d-33f0ea7fa1ad"
      },
      "outputs": [
        {
          "output_type": "stream",
          "name": "stderr",
          "text": [
            "Installing package into ‘/usr/local/lib/R/site-library’\n",
            "(as ‘lib’ is unspecified)\n",
            "\n"
          ]
        }
      ],
      "source": [
        "# Installation de readxl dans Google Colab\n",
        "install.packages(\"readxl\")\n",
        "library(readxl)\n",
        "# Nommées les données\n",
        "# Pour commencer, il faut importer les données sur Google Collab, puis copier le chemin d'accès\n",
        "data_var =read_excel(\"/content/data_var.xlsx\")\n"
      ]
    },
    {
      "cell_type": "code",
      "execution_count": 3,
      "metadata": {
        "colab": {
          "base_uri": "https://localhost:8080/",
          "height": 755
        },
        "id": "2-KkzRpTzapL",
        "outputId": "b684aa3e-91da-4025-f1b0-460ec0640bc2"
      },
      "outputs": [
        {
          "output_type": "display_data",
          "data": {
            "text/html": [
              "<table class=\"dataframe\">\n",
              "<caption>A tibble: 6 × 4</caption>\n",
              "<thead>\n",
              "\t<tr><th scope=col>date</th><th scope=col>volatilite_estimee_VIX</th><th scope=col>volume_sp500</th><th scope=col>rendement_simple_sp500</th></tr>\n",
              "\t<tr><th scope=col>&lt;dttm&gt;</th><th scope=col>&lt;dbl&gt;</th><th scope=col>&lt;dbl&gt;</th><th scope=col>&lt;dbl&gt;</th></tr>\n",
              "</thead>\n",
              "<tbody>\n",
              "\t<tr><td>2015-01-02</td><td>0.18123169</td><td>2708700000</td><td>-0.0003399637</td></tr>\n",
              "\t<tr><td>2015-01-05</td><td>0.10943201</td><td>3799120000</td><td>-0.0164813703</td></tr>\n",
              "\t<tr><td>2015-01-06</td><td>0.17315569</td><td>4460110000</td><td>-0.0096630017</td></tr>\n",
              "\t<tr><td>2015-01-07</td><td>0.08823521</td><td>3805480000</td><td> 0.0101468301</td></tr>\n",
              "\t<tr><td>2015-01-08</td><td>0.06474399</td><td>3934010000</td><td> 0.0155273083</td></tr>\n",
              "\t<tr><td>2015-01-09</td><td>0.12043792</td><td>3364140000</td><td>-0.0090333631</td></tr>\n",
              "</tbody>\n",
              "</table>\n"
            ],
            "text/markdown": "\nA tibble: 6 × 4\n\n| date &lt;dttm&gt; | volatilite_estimee_VIX &lt;dbl&gt; | volume_sp500 &lt;dbl&gt; | rendement_simple_sp500 &lt;dbl&gt; |\n|---|---|---|---|\n| 2015-01-02 | 0.18123169 | 2708700000 | -0.0003399637 |\n| 2015-01-05 | 0.10943201 | 3799120000 | -0.0164813703 |\n| 2015-01-06 | 0.17315569 | 4460110000 | -0.0096630017 |\n| 2015-01-07 | 0.08823521 | 3805480000 |  0.0101468301 |\n| 2015-01-08 | 0.06474399 | 3934010000 |  0.0155273083 |\n| 2015-01-09 | 0.12043792 | 3364140000 | -0.0090333631 |\n\n",
            "text/latex": "A tibble: 6 × 4\n\\begin{tabular}{llll}\n date & volatilite\\_estimee\\_VIX & volume\\_sp500 & rendement\\_simple\\_sp500\\\\\n <dttm> & <dbl> & <dbl> & <dbl>\\\\\n\\hline\n\t 2015-01-02 & 0.18123169 & 2708700000 & -0.0003399637\\\\\n\t 2015-01-05 & 0.10943201 & 3799120000 & -0.0164813703\\\\\n\t 2015-01-06 & 0.17315569 & 4460110000 & -0.0096630017\\\\\n\t 2015-01-07 & 0.08823521 & 3805480000 &  0.0101468301\\\\\n\t 2015-01-08 & 0.06474399 & 3934010000 &  0.0155273083\\\\\n\t 2015-01-09 & 0.12043792 & 3364140000 & -0.0090333631\\\\\n\\end{tabular}\n",
            "text/plain": [
              "  date       volatilite_estimee_VIX volume_sp500 rendement_simple_sp500\n",
              "1 2015-01-02 0.18123169             2708700000   -0.0003399637         \n",
              "2 2015-01-05 0.10943201             3799120000   -0.0164813703         \n",
              "3 2015-01-06 0.17315569             4460110000   -0.0096630017         \n",
              "4 2015-01-07 0.08823521             3805480000    0.0101468301         \n",
              "5 2015-01-08 0.06474399             3934010000    0.0155273083         \n",
              "6 2015-01-09 0.12043792             3364140000   -0.0090333631         "
            ]
          },
          "metadata": {}
        },
        {
          "output_type": "stream",
          "name": "stdout",
          "text": [
            "tibble [2,515 × 4] (S3: tbl_df/tbl/data.frame)\n",
            " $ date                  : POSIXct[1:2515], format: \"2015-01-02\" \"2015-01-05\" ...\n",
            " $ volatilite_estimee_VIX: num [1:2515] 0.1812 0.1094 0.1732 0.0882 0.0647 ...\n",
            " $ volume_sp500          : num [1:2515] 2.71e+09 3.80e+09 4.46e+09 3.81e+09 3.93e+09 ...\n",
            " $ rendement_simple_sp500: num [1:2515] -0.00034 -0.01648 -0.00966 0.01015 0.01553 ...\n"
          ]
        },
        {
          "output_type": "display_data",
          "data": {
            "text/html": [
              "<style>\n",
              ".list-inline {list-style: none; margin:0; padding: 0}\n",
              ".list-inline>li {display: inline-block}\n",
              ".list-inline>li:not(:last-child)::after {content: \"\\00b7\"; padding: 0 .5ex}\n",
              "</style>\n",
              "<ol class=list-inline><li>'tbl_df'</li><li>'tbl'</li><li>'data.frame'</li></ol>\n"
            ],
            "text/markdown": "1. 'tbl_df'\n2. 'tbl'\n3. 'data.frame'\n\n\n",
            "text/latex": "\\begin{enumerate*}\n\\item 'tbl\\_df'\n\\item 'tbl'\n\\item 'data.frame'\n\\end{enumerate*}\n",
            "text/plain": [
              "[1] \"tbl_df\"     \"tbl\"        \"data.frame\""
            ]
          },
          "metadata": {}
        },
        {
          "output_type": "display_data",
          "data": {
            "text/html": [
              "'list'"
            ],
            "text/markdown": "'list'",
            "text/latex": "'list'",
            "text/plain": [
              "[1] \"list\""
            ]
          },
          "metadata": {}
        },
        {
          "output_type": "display_data",
          "data": {
            "text/html": [
              "<style>\n",
              ".list-inline {list-style: none; margin:0; padding: 0}\n",
              ".list-inline>li {display: inline-block}\n",
              ".list-inline>li:not(:last-child)::after {content: \"\\00b7\"; padding: 0 .5ex}\n",
              "</style>\n",
              "<ol class=list-inline><li>'date'</li><li>'volatilite_estimee_VIX'</li><li>'volume_sp500'</li><li>'rendement_simple_sp500'</li></ol>\n"
            ],
            "text/markdown": "1. 'date'\n2. 'volatilite_estimee_VIX'\n3. 'volume_sp500'\n4. 'rendement_simple_sp500'\n\n\n",
            "text/latex": "\\begin{enumerate*}\n\\item 'date'\n\\item 'volatilite\\_estimee\\_VIX'\n\\item 'volume\\_sp500'\n\\item 'rendement\\_simple\\_sp500'\n\\end{enumerate*}\n",
            "text/plain": [
              "[1] \"date\"                   \"volatilite_estimee_VIX\" \"volume_sp500\"          \n",
              "[4] \"rendement_simple_sp500\""
            ]
          },
          "metadata": {}
        },
        {
          "output_type": "display_data",
          "data": {
            "text/html": [
              "<style>\n",
              ".list-inline {list-style: none; margin:0; padding: 0}\n",
              ".list-inline>li {display: inline-block}\n",
              ".list-inline>li:not(:last-child)::after {content: \"\\00b7\"; padding: 0 .5ex}\n",
              "</style>\n",
              "<ol class=list-inline><li>'1'</li><li>'2'</li><li>'3'</li><li>'4'</li><li>'5'</li><li>'6'</li><li>'7'</li><li>'8'</li><li>'9'</li><li>'10'</li><li>'11'</li><li>'12'</li><li>'13'</li><li>'14'</li><li>'15'</li><li>'16'</li><li>'17'</li><li>'18'</li><li>'19'</li><li>'20'</li><li>'21'</li><li>'22'</li><li>'23'</li><li>'24'</li><li>'25'</li><li>'26'</li><li>'27'</li><li>'28'</li><li>'29'</li><li>'30'</li><li>'31'</li><li>'32'</li><li>'33'</li><li>'34'</li><li>'35'</li><li>'36'</li><li>'37'</li><li>'38'</li><li>'39'</li><li>'40'</li><li>'41'</li><li>'42'</li><li>'43'</li><li>'44'</li><li>'45'</li><li>'46'</li><li>'47'</li><li>'48'</li><li>'49'</li><li>'50'</li><li>'51'</li><li>'52'</li><li>'53'</li><li>'54'</li><li>'55'</li><li>'56'</li><li>'57'</li><li>'58'</li><li>'59'</li><li>'60'</li><li>'61'</li><li>'62'</li><li>'63'</li><li>'64'</li><li>'65'</li><li>'66'</li><li>'67'</li><li>'68'</li><li>'69'</li><li>'70'</li><li>'71'</li><li>'72'</li><li>'73'</li><li>'74'</li><li>'75'</li><li>'76'</li><li>'77'</li><li>'78'</li><li>'79'</li><li>'80'</li><li>'81'</li><li>'82'</li><li>'83'</li><li>'84'</li><li>'85'</li><li>'86'</li><li>'87'</li><li>'88'</li><li>'89'</li><li>'90'</li><li>'91'</li><li>'92'</li><li>'93'</li><li>'94'</li><li>'95'</li><li>'96'</li><li>'97'</li><li>'98'</li><li>'99'</li><li>'100'</li><li>'101'</li><li>'102'</li><li>'103'</li><li>'104'</li><li>'105'</li><li>'106'</li><li>'107'</li><li>'108'</li><li>'109'</li><li>'110'</li><li>'111'</li><li>'112'</li><li>'113'</li><li>'114'</li><li>'115'</li><li>'116'</li><li>'117'</li><li>'118'</li><li>'119'</li><li>'120'</li><li>'121'</li><li>'122'</li><li>'123'</li><li>'124'</li><li>'125'</li><li>'126'</li><li>'127'</li><li>'128'</li><li>'129'</li><li>'130'</li><li>'131'</li><li>'132'</li><li>'133'</li><li>'134'</li><li>'135'</li><li>'136'</li><li>'137'</li><li>'138'</li><li>'139'</li><li>'140'</li><li>'141'</li><li>'142'</li><li>'143'</li><li>'144'</li><li>'145'</li><li>'146'</li><li>'147'</li><li>'148'</li><li>'149'</li><li>'150'</li><li>'151'</li><li>'152'</li><li>'153'</li><li>'154'</li><li>'155'</li><li>'156'</li><li>'157'</li><li>'158'</li><li>'159'</li><li>'160'</li><li>'161'</li><li>'162'</li><li>'163'</li><li>'164'</li><li>'165'</li><li>'166'</li><li>'167'</li><li>'168'</li><li>'169'</li><li>'170'</li><li>'171'</li><li>'172'</li><li>'173'</li><li>'174'</li><li>'175'</li><li>'176'</li><li>'177'</li><li>'178'</li><li>'179'</li><li>'180'</li><li>'181'</li><li>'182'</li><li>'183'</li><li>'184'</li><li>'185'</li><li>'186'</li><li>'187'</li><li>'188'</li><li>'189'</li><li>'190'</li><li>'191'</li><li>'192'</li><li>'193'</li><li>'194'</li><li>'195'</li><li>'196'</li><li>'197'</li><li>'198'</li><li>'199'</li><li>'200'</li><li>⋯</li><li>'2316'</li><li>'2317'</li><li>'2318'</li><li>'2319'</li><li>'2320'</li><li>'2321'</li><li>'2322'</li><li>'2323'</li><li>'2324'</li><li>'2325'</li><li>'2326'</li><li>'2327'</li><li>'2328'</li><li>'2329'</li><li>'2330'</li><li>'2331'</li><li>'2332'</li><li>'2333'</li><li>'2334'</li><li>'2335'</li><li>'2336'</li><li>'2337'</li><li>'2338'</li><li>'2339'</li><li>'2340'</li><li>'2341'</li><li>'2342'</li><li>'2343'</li><li>'2344'</li><li>'2345'</li><li>'2346'</li><li>'2347'</li><li>'2348'</li><li>'2349'</li><li>'2350'</li><li>'2351'</li><li>'2352'</li><li>'2353'</li><li>'2354'</li><li>'2355'</li><li>'2356'</li><li>'2357'</li><li>'2358'</li><li>'2359'</li><li>'2360'</li><li>'2361'</li><li>'2362'</li><li>'2363'</li><li>'2364'</li><li>'2365'</li><li>'2366'</li><li>'2367'</li><li>'2368'</li><li>'2369'</li><li>'2370'</li><li>'2371'</li><li>'2372'</li><li>'2373'</li><li>'2374'</li><li>'2375'</li><li>'2376'</li><li>'2377'</li><li>'2378'</li><li>'2379'</li><li>'2380'</li><li>'2381'</li><li>'2382'</li><li>'2383'</li><li>'2384'</li><li>'2385'</li><li>'2386'</li><li>'2387'</li><li>'2388'</li><li>'2389'</li><li>'2390'</li><li>'2391'</li><li>'2392'</li><li>'2393'</li><li>'2394'</li><li>'2395'</li><li>'2396'</li><li>'2397'</li><li>'2398'</li><li>'2399'</li><li>'2400'</li><li>'2401'</li><li>'2402'</li><li>'2403'</li><li>'2404'</li><li>'2405'</li><li>'2406'</li><li>'2407'</li><li>'2408'</li><li>'2409'</li><li>'2410'</li><li>'2411'</li><li>'2412'</li><li>'2413'</li><li>'2414'</li><li>'2415'</li><li>'2416'</li><li>'2417'</li><li>'2418'</li><li>'2419'</li><li>'2420'</li><li>'2421'</li><li>'2422'</li><li>'2423'</li><li>'2424'</li><li>'2425'</li><li>'2426'</li><li>'2427'</li><li>'2428'</li><li>'2429'</li><li>'2430'</li><li>'2431'</li><li>'2432'</li><li>'2433'</li><li>'2434'</li><li>'2435'</li><li>'2436'</li><li>'2437'</li><li>'2438'</li><li>'2439'</li><li>'2440'</li><li>'2441'</li><li>'2442'</li><li>'2443'</li><li>'2444'</li><li>'2445'</li><li>'2446'</li><li>'2447'</li><li>'2448'</li><li>'2449'</li><li>'2450'</li><li>'2451'</li><li>'2452'</li><li>'2453'</li><li>'2454'</li><li>'2455'</li><li>'2456'</li><li>'2457'</li><li>'2458'</li><li>'2459'</li><li>'2460'</li><li>'2461'</li><li>'2462'</li><li>'2463'</li><li>'2464'</li><li>'2465'</li><li>'2466'</li><li>'2467'</li><li>'2468'</li><li>'2469'</li><li>'2470'</li><li>'2471'</li><li>'2472'</li><li>'2473'</li><li>'2474'</li><li>'2475'</li><li>'2476'</li><li>'2477'</li><li>'2478'</li><li>'2479'</li><li>'2480'</li><li>'2481'</li><li>'2482'</li><li>'2483'</li><li>'2484'</li><li>'2485'</li><li>'2486'</li><li>'2487'</li><li>'2488'</li><li>'2489'</li><li>'2490'</li><li>'2491'</li><li>'2492'</li><li>'2493'</li><li>'2494'</li><li>'2495'</li><li>'2496'</li><li>'2497'</li><li>'2498'</li><li>'2499'</li><li>'2500'</li><li>'2501'</li><li>'2502'</li><li>'2503'</li><li>'2504'</li><li>'2505'</li><li>'2506'</li><li>'2507'</li><li>'2508'</li><li>'2509'</li><li>'2510'</li><li>'2511'</li><li>'2512'</li><li>'2513'</li><li>'2514'</li><li>'2515'</li></ol>\n"
            ],
            "text/markdown": "1. '1'\n2. '2'\n3. '3'\n4. '4'\n5. '5'\n6. '6'\n7. '7'\n8. '8'\n9. '9'\n10. '10'\n11. '11'\n12. '12'\n13. '13'\n14. '14'\n15. '15'\n16. '16'\n17. '17'\n18. '18'\n19. '19'\n20. '20'\n21. '21'\n22. '22'\n23. '23'\n24. '24'\n25. '25'\n26. '26'\n27. '27'\n28. '28'\n29. '29'\n30. '30'\n31. '31'\n32. '32'\n33. '33'\n34. '34'\n35. '35'\n36. '36'\n37. '37'\n38. '38'\n39. '39'\n40. '40'\n41. '41'\n42. '42'\n43. '43'\n44. '44'\n45. '45'\n46. '46'\n47. '47'\n48. '48'\n49. '49'\n50. '50'\n51. '51'\n52. '52'\n53. '53'\n54. '54'\n55. '55'\n56. '56'\n57. '57'\n58. '58'\n59. '59'\n60. '60'\n61. '61'\n62. '62'\n63. '63'\n64. '64'\n65. '65'\n66. '66'\n67. '67'\n68. '68'\n69. '69'\n70. '70'\n71. '71'\n72. '72'\n73. '73'\n74. '74'\n75. '75'\n76. '76'\n77. '77'\n78. '78'\n79. '79'\n80. '80'\n81. '81'\n82. '82'\n83. '83'\n84. '84'\n85. '85'\n86. '86'\n87. '87'\n88. '88'\n89. '89'\n90. '90'\n91. '91'\n92. '92'\n93. '93'\n94. '94'\n95. '95'\n96. '96'\n97. '97'\n98. '98'\n99. '99'\n100. '100'\n101. '101'\n102. '102'\n103. '103'\n104. '104'\n105. '105'\n106. '106'\n107. '107'\n108. '108'\n109. '109'\n110. '110'\n111. '111'\n112. '112'\n113. '113'\n114. '114'\n115. '115'\n116. '116'\n117. '117'\n118. '118'\n119. '119'\n120. '120'\n121. '121'\n122. '122'\n123. '123'\n124. '124'\n125. '125'\n126. '126'\n127. '127'\n128. '128'\n129. '129'\n130. '130'\n131. '131'\n132. '132'\n133. '133'\n134. '134'\n135. '135'\n136. '136'\n137. '137'\n138. '138'\n139. '139'\n140. '140'\n141. '141'\n142. '142'\n143. '143'\n144. '144'\n145. '145'\n146. '146'\n147. '147'\n148. '148'\n149. '149'\n150. '150'\n151. '151'\n152. '152'\n153. '153'\n154. '154'\n155. '155'\n156. '156'\n157. '157'\n158. '158'\n159. '159'\n160. '160'\n161. '161'\n162. '162'\n163. '163'\n164. '164'\n165. '165'\n166. '166'\n167. '167'\n168. '168'\n169. '169'\n170. '170'\n171. '171'\n172. '172'\n173. '173'\n174. '174'\n175. '175'\n176. '176'\n177. '177'\n178. '178'\n179. '179'\n180. '180'\n181. '181'\n182. '182'\n183. '183'\n184. '184'\n185. '185'\n186. '186'\n187. '187'\n188. '188'\n189. '189'\n190. '190'\n191. '191'\n192. '192'\n193. '193'\n194. '194'\n195. '195'\n196. '196'\n197. '197'\n198. '198'\n199. '199'\n200. '200'\n201. ⋯\n202. '2316'\n203. '2317'\n204. '2318'\n205. '2319'\n206. '2320'\n207. '2321'\n208. '2322'\n209. '2323'\n210. '2324'\n211. '2325'\n212. '2326'\n213. '2327'\n214. '2328'\n215. '2329'\n216. '2330'\n217. '2331'\n218. '2332'\n219. '2333'\n220. '2334'\n221. '2335'\n222. '2336'\n223. '2337'\n224. '2338'\n225. '2339'\n226. '2340'\n227. '2341'\n228. '2342'\n229. '2343'\n230. '2344'\n231. '2345'\n232. '2346'\n233. '2347'\n234. '2348'\n235. '2349'\n236. '2350'\n237. '2351'\n238. '2352'\n239. '2353'\n240. '2354'\n241. '2355'\n242. '2356'\n243. '2357'\n244. '2358'\n245. '2359'\n246. '2360'\n247. '2361'\n248. '2362'\n249. '2363'\n250. '2364'\n251. '2365'\n252. '2366'\n253. '2367'\n254. '2368'\n255. '2369'\n256. '2370'\n257. '2371'\n258. '2372'\n259. '2373'\n260. '2374'\n261. '2375'\n262. '2376'\n263. '2377'\n264. '2378'\n265. '2379'\n266. '2380'\n267. '2381'\n268. '2382'\n269. '2383'\n270. '2384'\n271. '2385'\n272. '2386'\n273. '2387'\n274. '2388'\n275. '2389'\n276. '2390'\n277. '2391'\n278. '2392'\n279. '2393'\n280. '2394'\n281. '2395'\n282. '2396'\n283. '2397'\n284. '2398'\n285. '2399'\n286. '2400'\n287. '2401'\n288. '2402'\n289. '2403'\n290. '2404'\n291. '2405'\n292. '2406'\n293. '2407'\n294. '2408'\n295. '2409'\n296. '2410'\n297. '2411'\n298. '2412'\n299. '2413'\n300. '2414'\n301. '2415'\n302. '2416'\n303. '2417'\n304. '2418'\n305. '2419'\n306. '2420'\n307. '2421'\n308. '2422'\n309. '2423'\n310. '2424'\n311. '2425'\n312. '2426'\n313. '2427'\n314. '2428'\n315. '2429'\n316. '2430'\n317. '2431'\n318. '2432'\n319. '2433'\n320. '2434'\n321. '2435'\n322. '2436'\n323. '2437'\n324. '2438'\n325. '2439'\n326. '2440'\n327. '2441'\n328. '2442'\n329. '2443'\n330. '2444'\n331. '2445'\n332. '2446'\n333. '2447'\n334. '2448'\n335. '2449'\n336. '2450'\n337. '2451'\n338. '2452'\n339. '2453'\n340. '2454'\n341. '2455'\n342. '2456'\n343. '2457'\n344. '2458'\n345. '2459'\n346. '2460'\n347. '2461'\n348. '2462'\n349. '2463'\n350. '2464'\n351. '2465'\n352. '2466'\n353. '2467'\n354. '2468'\n355. '2469'\n356. '2470'\n357. '2471'\n358. '2472'\n359. '2473'\n360. '2474'\n361. '2475'\n362. '2476'\n363. '2477'\n364. '2478'\n365. '2479'\n366. '2480'\n367. '2481'\n368. '2482'\n369. '2483'\n370. '2484'\n371. '2485'\n372. '2486'\n373. '2487'\n374. '2488'\n375. '2489'\n376. '2490'\n377. '2491'\n378. '2492'\n379. '2493'\n380. '2494'\n381. '2495'\n382. '2496'\n383. '2497'\n384. '2498'\n385. '2499'\n386. '2500'\n387. '2501'\n388. '2502'\n389. '2503'\n390. '2504'\n391. '2505'\n392. '2506'\n393. '2507'\n394. '2508'\n395. '2509'\n396. '2510'\n397. '2511'\n398. '2512'\n399. '2513'\n400. '2514'\n401. '2515'\n\n\n",
            "text/latex": "\\begin{enumerate*}\n\\item '1'\n\\item '2'\n\\item '3'\n\\item '4'\n\\item '5'\n\\item '6'\n\\item '7'\n\\item '8'\n\\item '9'\n\\item '10'\n\\item '11'\n\\item '12'\n\\item '13'\n\\item '14'\n\\item '15'\n\\item '16'\n\\item '17'\n\\item '18'\n\\item '19'\n\\item '20'\n\\item '21'\n\\item '22'\n\\item '23'\n\\item '24'\n\\item '25'\n\\item '26'\n\\item '27'\n\\item '28'\n\\item '29'\n\\item '30'\n\\item '31'\n\\item '32'\n\\item '33'\n\\item '34'\n\\item '35'\n\\item '36'\n\\item '37'\n\\item '38'\n\\item '39'\n\\item '40'\n\\item '41'\n\\item '42'\n\\item '43'\n\\item '44'\n\\item '45'\n\\item '46'\n\\item '47'\n\\item '48'\n\\item '49'\n\\item '50'\n\\item '51'\n\\item '52'\n\\item '53'\n\\item '54'\n\\item '55'\n\\item '56'\n\\item '57'\n\\item '58'\n\\item '59'\n\\item '60'\n\\item '61'\n\\item '62'\n\\item '63'\n\\item '64'\n\\item '65'\n\\item '66'\n\\item '67'\n\\item '68'\n\\item '69'\n\\item '70'\n\\item '71'\n\\item '72'\n\\item '73'\n\\item '74'\n\\item '75'\n\\item '76'\n\\item '77'\n\\item '78'\n\\item '79'\n\\item '80'\n\\item '81'\n\\item '82'\n\\item '83'\n\\item '84'\n\\item '85'\n\\item '86'\n\\item '87'\n\\item '88'\n\\item '89'\n\\item '90'\n\\item '91'\n\\item '92'\n\\item '93'\n\\item '94'\n\\item '95'\n\\item '96'\n\\item '97'\n\\item '98'\n\\item '99'\n\\item '100'\n\\item '101'\n\\item '102'\n\\item '103'\n\\item '104'\n\\item '105'\n\\item '106'\n\\item '107'\n\\item '108'\n\\item '109'\n\\item '110'\n\\item '111'\n\\item '112'\n\\item '113'\n\\item '114'\n\\item '115'\n\\item '116'\n\\item '117'\n\\item '118'\n\\item '119'\n\\item '120'\n\\item '121'\n\\item '122'\n\\item '123'\n\\item '124'\n\\item '125'\n\\item '126'\n\\item '127'\n\\item '128'\n\\item '129'\n\\item '130'\n\\item '131'\n\\item '132'\n\\item '133'\n\\item '134'\n\\item '135'\n\\item '136'\n\\item '137'\n\\item '138'\n\\item '139'\n\\item '140'\n\\item '141'\n\\item '142'\n\\item '143'\n\\item '144'\n\\item '145'\n\\item '146'\n\\item '147'\n\\item '148'\n\\item '149'\n\\item '150'\n\\item '151'\n\\item '152'\n\\item '153'\n\\item '154'\n\\item '155'\n\\item '156'\n\\item '157'\n\\item '158'\n\\item '159'\n\\item '160'\n\\item '161'\n\\item '162'\n\\item '163'\n\\item '164'\n\\item '165'\n\\item '166'\n\\item '167'\n\\item '168'\n\\item '169'\n\\item '170'\n\\item '171'\n\\item '172'\n\\item '173'\n\\item '174'\n\\item '175'\n\\item '176'\n\\item '177'\n\\item '178'\n\\item '179'\n\\item '180'\n\\item '181'\n\\item '182'\n\\item '183'\n\\item '184'\n\\item '185'\n\\item '186'\n\\item '187'\n\\item '188'\n\\item '189'\n\\item '190'\n\\item '191'\n\\item '192'\n\\item '193'\n\\item '194'\n\\item '195'\n\\item '196'\n\\item '197'\n\\item '198'\n\\item '199'\n\\item '200'\n\\item ⋯\n\\item '2316'\n\\item '2317'\n\\item '2318'\n\\item '2319'\n\\item '2320'\n\\item '2321'\n\\item '2322'\n\\item '2323'\n\\item '2324'\n\\item '2325'\n\\item '2326'\n\\item '2327'\n\\item '2328'\n\\item '2329'\n\\item '2330'\n\\item '2331'\n\\item '2332'\n\\item '2333'\n\\item '2334'\n\\item '2335'\n\\item '2336'\n\\item '2337'\n\\item '2338'\n\\item '2339'\n\\item '2340'\n\\item '2341'\n\\item '2342'\n\\item '2343'\n\\item '2344'\n\\item '2345'\n\\item '2346'\n\\item '2347'\n\\item '2348'\n\\item '2349'\n\\item '2350'\n\\item '2351'\n\\item '2352'\n\\item '2353'\n\\item '2354'\n\\item '2355'\n\\item '2356'\n\\item '2357'\n\\item '2358'\n\\item '2359'\n\\item '2360'\n\\item '2361'\n\\item '2362'\n\\item '2363'\n\\item '2364'\n\\item '2365'\n\\item '2366'\n\\item '2367'\n\\item '2368'\n\\item '2369'\n\\item '2370'\n\\item '2371'\n\\item '2372'\n\\item '2373'\n\\item '2374'\n\\item '2375'\n\\item '2376'\n\\item '2377'\n\\item '2378'\n\\item '2379'\n\\item '2380'\n\\item '2381'\n\\item '2382'\n\\item '2383'\n\\item '2384'\n\\item '2385'\n\\item '2386'\n\\item '2387'\n\\item '2388'\n\\item '2389'\n\\item '2390'\n\\item '2391'\n\\item '2392'\n\\item '2393'\n\\item '2394'\n\\item '2395'\n\\item '2396'\n\\item '2397'\n\\item '2398'\n\\item '2399'\n\\item '2400'\n\\item '2401'\n\\item '2402'\n\\item '2403'\n\\item '2404'\n\\item '2405'\n\\item '2406'\n\\item '2407'\n\\item '2408'\n\\item '2409'\n\\item '2410'\n\\item '2411'\n\\item '2412'\n\\item '2413'\n\\item '2414'\n\\item '2415'\n\\item '2416'\n\\item '2417'\n\\item '2418'\n\\item '2419'\n\\item '2420'\n\\item '2421'\n\\item '2422'\n\\item '2423'\n\\item '2424'\n\\item '2425'\n\\item '2426'\n\\item '2427'\n\\item '2428'\n\\item '2429'\n\\item '2430'\n\\item '2431'\n\\item '2432'\n\\item '2433'\n\\item '2434'\n\\item '2435'\n\\item '2436'\n\\item '2437'\n\\item '2438'\n\\item '2439'\n\\item '2440'\n\\item '2441'\n\\item '2442'\n\\item '2443'\n\\item '2444'\n\\item '2445'\n\\item '2446'\n\\item '2447'\n\\item '2448'\n\\item '2449'\n\\item '2450'\n\\item '2451'\n\\item '2452'\n\\item '2453'\n\\item '2454'\n\\item '2455'\n\\item '2456'\n\\item '2457'\n\\item '2458'\n\\item '2459'\n\\item '2460'\n\\item '2461'\n\\item '2462'\n\\item '2463'\n\\item '2464'\n\\item '2465'\n\\item '2466'\n\\item '2467'\n\\item '2468'\n\\item '2469'\n\\item '2470'\n\\item '2471'\n\\item '2472'\n\\item '2473'\n\\item '2474'\n\\item '2475'\n\\item '2476'\n\\item '2477'\n\\item '2478'\n\\item '2479'\n\\item '2480'\n\\item '2481'\n\\item '2482'\n\\item '2483'\n\\item '2484'\n\\item '2485'\n\\item '2486'\n\\item '2487'\n\\item '2488'\n\\item '2489'\n\\item '2490'\n\\item '2491'\n\\item '2492'\n\\item '2493'\n\\item '2494'\n\\item '2495'\n\\item '2496'\n\\item '2497'\n\\item '2498'\n\\item '2499'\n\\item '2500'\n\\item '2501'\n\\item '2502'\n\\item '2503'\n\\item '2504'\n\\item '2505'\n\\item '2506'\n\\item '2507'\n\\item '2508'\n\\item '2509'\n\\item '2510'\n\\item '2511'\n\\item '2512'\n\\item '2513'\n\\item '2514'\n\\item '2515'\n\\end{enumerate*}\n",
            "text/plain": [
              "   [1] \"1\"    \"2\"    \"3\"    \"4\"    \"5\"    \"6\"    \"7\"    \"8\"    \"9\"    \"10\"  \n",
              "  [11] \"11\"   \"12\"   \"13\"   \"14\"   \"15\"   \"16\"   \"17\"   \"18\"   \"19\"   \"20\"  \n",
              "  [21] \"21\"   \"22\"   \"23\"   \"24\"   \"25\"   \"26\"   \"27\"   \"28\"   \"29\"   \"30\"  \n",
              "  [31] \"31\"   \"32\"   \"33\"   \"34\"   \"35\"   \"36\"   \"37\"   \"38\"   \"39\"   \"40\"  \n",
              "  [41] \"41\"   \"42\"   \"43\"   \"44\"   \"45\"   \"46\"   \"47\"   \"48\"   \"49\"   \"50\"  \n",
              "  [51] \"51\"   \"52\"   \"53\"   \"54\"   \"55\"   \"56\"   \"57\"   \"58\"   \"59\"   \"60\"  \n",
              "  [61] \"61\"   \"62\"   \"63\"   \"64\"   \"65\"   \"66\"   \"67\"   \"68\"   \"69\"   \"70\"  \n",
              "  [71] \"71\"   \"72\"   \"73\"   \"74\"   \"75\"   \"76\"   \"77\"   \"78\"   \"79\"   \"80\"  \n",
              "  [81] \"81\"   \"82\"   \"83\"   \"84\"   \"85\"   \"86\"   \"87\"   \"88\"   \"89\"   \"90\"  \n",
              "  [91] \"91\"   \"92\"   \"93\"   \"94\"   \"95\"   \"96\"   \"97\"   \"98\"   \"99\"   \"100\" \n",
              " [101] \"101\"  \"102\"  \"103\"  \"104\"  \"105\"  \"106\"  \"107\"  \"108\"  \"109\"  \"110\" \n",
              " [111] \"111\"  \"112\"  \"113\"  \"114\"  \"115\"  \"116\"  \"117\"  \"118\"  \"119\"  \"120\" \n",
              " [121] \"121\"  \"122\"  \"123\"  \"124\"  \"125\"  \"126\"  \"127\"  \"128\"  \"129\"  \"130\" \n",
              " [131] \"131\"  \"132\"  \"133\"  \"134\"  \"135\"  \"136\"  \"137\"  \"138\"  \"139\"  \"140\" \n",
              " [141] \"141\"  \"142\"  \"143\"  \"144\"  \"145\"  \"146\"  \"147\"  \"148\"  \"149\"  \"150\" \n",
              " [151] \"151\"  \"152\"  \"153\"  \"154\"  \"155\"  \"156\"  \"157\"  \"158\"  \"159\"  \"160\" \n",
              " [161] \"161\"  \"162\"  \"163\"  \"164\"  \"165\"  \"166\"  \"167\"  \"168\"  \"169\"  \"170\" \n",
              " [171] \"171\"  \"172\"  \"173\"  \"174\"  \"175\"  \"176\"  \"177\"  \"178\"  \"179\"  \"180\" \n",
              " [181] \"181\"  \"182\"  \"183\"  \"184\"  \"185\"  \"186\"  \"187\"  \"188\"  \"189\"  \"190\" \n",
              " [191] \"191\"  \"192\"  \"193\"  \"194\"  \"195\"  \"196\"  \"197\"  \"198\"  \"199\"  \"200\" \n",
              " [201] \"201\"  \"202\"  \"203\"  \"204\"  \"205\"  \"206\"  \"207\"  \"208\"  \"209\"  \"210\" \n",
              " [211] \"211\"  \"212\"  \"213\"  \"214\"  \"215\"  \"216\"  \"217\"  \"218\"  \"219\"  \"220\" \n",
              " [221] \"221\"  \"222\"  \"223\"  \"224\"  \"225\"  \"226\"  \"227\"  \"228\"  \"229\"  \"230\" \n",
              " [231] \"231\"  \"232\"  \"233\"  \"234\"  \"235\"  \"236\"  \"237\"  \"238\"  \"239\"  \"240\" \n",
              " [241] \"241\"  \"242\"  \"243\"  \"244\"  \"245\"  \"246\"  \"247\"  \"248\"  \"249\"  \"250\" \n",
              " [251] \"251\"  \"252\"  \"253\"  \"254\"  \"255\"  \"256\"  \"257\"  \"258\"  \"259\"  \"260\" \n",
              " [261] \"261\"  \"262\"  \"263\"  \"264\"  \"265\"  \"266\"  \"267\"  \"268\"  \"269\"  \"270\" \n",
              " [271] \"271\"  \"272\"  \"273\"  \"274\"  \"275\"  \"276\"  \"277\"  \"278\"  \"279\"  \"280\" \n",
              " [281] \"281\"  \"282\"  \"283\"  \"284\"  \"285\"  \"286\"  \"287\"  \"288\"  \"289\"  \"290\" \n",
              " [291] \"291\"  \"292\"  \"293\"  \"294\"  \"295\"  \"296\"  \"297\"  \"298\"  \"299\"  \"300\" \n",
              " [301] \"301\"  \"302\"  \"303\"  \"304\"  \"305\"  \"306\"  \"307\"  \"308\"  \"309\"  \"310\" \n",
              " [311] \"311\"  \"312\"  \"313\"  \"314\"  \"315\"  \"316\"  \"317\"  \"318\"  \"319\"  \"320\" \n",
              " [321] \"321\"  \"322\"  \"323\"  \"324\"  \"325\"  \"326\"  \"327\"  \"328\"  \"329\"  \"330\" \n",
              " [331] \"331\"  \"332\"  \"333\"  \"334\"  \"335\"  \"336\"  \"337\"  \"338\"  \"339\"  \"340\" \n",
              " [341] \"341\"  \"342\"  \"343\"  \"344\"  \"345\"  \"346\"  \"347\"  \"348\"  \"349\"  \"350\" \n",
              " [351] \"351\"  \"352\"  \"353\"  \"354\"  \"355\"  \"356\"  \"357\"  \"358\"  \"359\"  \"360\" \n",
              " [361] \"361\"  \"362\"  \"363\"  \"364\"  \"365\"  \"366\"  \"367\"  \"368\"  \"369\"  \"370\" \n",
              " [371] \"371\"  \"372\"  \"373\"  \"374\"  \"375\"  \"376\"  \"377\"  \"378\"  \"379\"  \"380\" \n",
              " [381] \"381\"  \"382\"  \"383\"  \"384\"  \"385\"  \"386\"  \"387\"  \"388\"  \"389\"  \"390\" \n",
              " [391] \"391\"  \"392\"  \"393\"  \"394\"  \"395\"  \"396\"  \"397\"  \"398\"  \"399\"  \"400\" \n",
              " [401] \"401\"  \"402\"  \"403\"  \"404\"  \"405\"  \"406\"  \"407\"  \"408\"  \"409\"  \"410\" \n",
              " [411] \"411\"  \"412\"  \"413\"  \"414\"  \"415\"  \"416\"  \"417\"  \"418\"  \"419\"  \"420\" \n",
              " [421] \"421\"  \"422\"  \"423\"  \"424\"  \"425\"  \"426\"  \"427\"  \"428\"  \"429\"  \"430\" \n",
              " [431] \"431\"  \"432\"  \"433\"  \"434\"  \"435\"  \"436\"  \"437\"  \"438\"  \"439\"  \"440\" \n",
              " [441] \"441\"  \"442\"  \"443\"  \"444\"  \"445\"  \"446\"  \"447\"  \"448\"  \"449\"  \"450\" \n",
              " [451] \"451\"  \"452\"  \"453\"  \"454\"  \"455\"  \"456\"  \"457\"  \"458\"  \"459\"  \"460\" \n",
              " [461] \"461\"  \"462\"  \"463\"  \"464\"  \"465\"  \"466\"  \"467\"  \"468\"  \"469\"  \"470\" \n",
              " [471] \"471\"  \"472\"  \"473\"  \"474\"  \"475\"  \"476\"  \"477\"  \"478\"  \"479\"  \"480\" \n",
              " [481] \"481\"  \"482\"  \"483\"  \"484\"  \"485\"  \"486\"  \"487\"  \"488\"  \"489\"  \"490\" \n",
              " [491] \"491\"  \"492\"  \"493\"  \"494\"  \"495\"  \"496\"  \"497\"  \"498\"  \"499\"  \"500\" \n",
              " [501] \"501\"  \"502\"  \"503\"  \"504\"  \"505\"  \"506\"  \"507\"  \"508\"  \"509\"  \"510\" \n",
              " [511] \"511\"  \"512\"  \"513\"  \"514\"  \"515\"  \"516\"  \"517\"  \"518\"  \"519\"  \"520\" \n",
              " [521] \"521\"  \"522\"  \"523\"  \"524\"  \"525\"  \"526\"  \"527\"  \"528\"  \"529\"  \"530\" \n",
              " [531] \"531\"  \"532\"  \"533\"  \"534\"  \"535\"  \"536\"  \"537\"  \"538\"  \"539\"  \"540\" \n",
              " [541] \"541\"  \"542\"  \"543\"  \"544\"  \"545\"  \"546\"  \"547\"  \"548\"  \"549\"  \"550\" \n",
              " [551] \"551\"  \"552\"  \"553\"  \"554\"  \"555\"  \"556\"  \"557\"  \"558\"  \"559\"  \"560\" \n",
              " [561] \"561\"  \"562\"  \"563\"  \"564\"  \"565\"  \"566\"  \"567\"  \"568\"  \"569\"  \"570\" \n",
              " [571] \"571\"  \"572\"  \"573\"  \"574\"  \"575\"  \"576\"  \"577\"  \"578\"  \"579\"  \"580\" \n",
              " [581] \"581\"  \"582\"  \"583\"  \"584\"  \"585\"  \"586\"  \"587\"  \"588\"  \"589\"  \"590\" \n",
              " [591] \"591\"  \"592\"  \"593\"  \"594\"  \"595\"  \"596\"  \"597\"  \"598\"  \"599\"  \"600\" \n",
              " [601] \"601\"  \"602\"  \"603\"  \"604\"  \"605\"  \"606\"  \"607\"  \"608\"  \"609\"  \"610\" \n",
              " [611] \"611\"  \"612\"  \"613\"  \"614\"  \"615\"  \"616\"  \"617\"  \"618\"  \"619\"  \"620\" \n",
              " [621] \"621\"  \"622\"  \"623\"  \"624\"  \"625\"  \"626\"  \"627\"  \"628\"  \"629\"  \"630\" \n",
              " [631] \"631\"  \"632\"  \"633\"  \"634\"  \"635\"  \"636\"  \"637\"  \"638\"  \"639\"  \"640\" \n",
              " [641] \"641\"  \"642\"  \"643\"  \"644\"  \"645\"  \"646\"  \"647\"  \"648\"  \"649\"  \"650\" \n",
              " [651] \"651\"  \"652\"  \"653\"  \"654\"  \"655\"  \"656\"  \"657\"  \"658\"  \"659\"  \"660\" \n",
              " [661] \"661\"  \"662\"  \"663\"  \"664\"  \"665\"  \"666\"  \"667\"  \"668\"  \"669\"  \"670\" \n",
              " [671] \"671\"  \"672\"  \"673\"  \"674\"  \"675\"  \"676\"  \"677\"  \"678\"  \"679\"  \"680\" \n",
              " [681] \"681\"  \"682\"  \"683\"  \"684\"  \"685\"  \"686\"  \"687\"  \"688\"  \"689\"  \"690\" \n",
              " [691] \"691\"  \"692\"  \"693\"  \"694\"  \"695\"  \"696\"  \"697\"  \"698\"  \"699\"  \"700\" \n",
              " [701] \"701\"  \"702\"  \"703\"  \"704\"  \"705\"  \"706\"  \"707\"  \"708\"  \"709\"  \"710\" \n",
              " [711] \"711\"  \"712\"  \"713\"  \"714\"  \"715\"  \"716\"  \"717\"  \"718\"  \"719\"  \"720\" \n",
              " [721] \"721\"  \"722\"  \"723\"  \"724\"  \"725\"  \"726\"  \"727\"  \"728\"  \"729\"  \"730\" \n",
              " [731] \"731\"  \"732\"  \"733\"  \"734\"  \"735\"  \"736\"  \"737\"  \"738\"  \"739\"  \"740\" \n",
              " [741] \"741\"  \"742\"  \"743\"  \"744\"  \"745\"  \"746\"  \"747\"  \"748\"  \"749\"  \"750\" \n",
              " [751] \"751\"  \"752\"  \"753\"  \"754\"  \"755\"  \"756\"  \"757\"  \"758\"  \"759\"  \"760\" \n",
              " [761] \"761\"  \"762\"  \"763\"  \"764\"  \"765\"  \"766\"  \"767\"  \"768\"  \"769\"  \"770\" \n",
              " [771] \"771\"  \"772\"  \"773\"  \"774\"  \"775\"  \"776\"  \"777\"  \"778\"  \"779\"  \"780\" \n",
              " [781] \"781\"  \"782\"  \"783\"  \"784\"  \"785\"  \"786\"  \"787\"  \"788\"  \"789\"  \"790\" \n",
              " [791] \"791\"  \"792\"  \"793\"  \"794\"  \"795\"  \"796\"  \"797\"  \"798\"  \"799\"  \"800\" \n",
              " [801] \"801\"  \"802\"  \"803\"  \"804\"  \"805\"  \"806\"  \"807\"  \"808\"  \"809\"  \"810\" \n",
              " [811] \"811\"  \"812\"  \"813\"  \"814\"  \"815\"  \"816\"  \"817\"  \"818\"  \"819\"  \"820\" \n",
              " [821] \"821\"  \"822\"  \"823\"  \"824\"  \"825\"  \"826\"  \"827\"  \"828\"  \"829\"  \"830\" \n",
              " [831] \"831\"  \"832\"  \"833\"  \"834\"  \"835\"  \"836\"  \"837\"  \"838\"  \"839\"  \"840\" \n",
              " [841] \"841\"  \"842\"  \"843\"  \"844\"  \"845\"  \"846\"  \"847\"  \"848\"  \"849\"  \"850\" \n",
              " [851] \"851\"  \"852\"  \"853\"  \"854\"  \"855\"  \"856\"  \"857\"  \"858\"  \"859\"  \"860\" \n",
              " [861] \"861\"  \"862\"  \"863\"  \"864\"  \"865\"  \"866\"  \"867\"  \"868\"  \"869\"  \"870\" \n",
              " [871] \"871\"  \"872\"  \"873\"  \"874\"  \"875\"  \"876\"  \"877\"  \"878\"  \"879\"  \"880\" \n",
              " [881] \"881\"  \"882\"  \"883\"  \"884\"  \"885\"  \"886\"  \"887\"  \"888\"  \"889\"  \"890\" \n",
              " [891] \"891\"  \"892\"  \"893\"  \"894\"  \"895\"  \"896\"  \"897\"  \"898\"  \"899\"  \"900\" \n",
              " [901] \"901\"  \"902\"  \"903\"  \"904\"  \"905\"  \"906\"  \"907\"  \"908\"  \"909\"  \"910\" \n",
              " [911] \"911\"  \"912\"  \"913\"  \"914\"  \"915\"  \"916\"  \"917\"  \"918\"  \"919\"  \"920\" \n",
              " [921] \"921\"  \"922\"  \"923\"  \"924\"  \"925\"  \"926\"  \"927\"  \"928\"  \"929\"  \"930\" \n",
              " [931] \"931\"  \"932\"  \"933\"  \"934\"  \"935\"  \"936\"  \"937\"  \"938\"  \"939\"  \"940\" \n",
              " [941] \"941\"  \"942\"  \"943\"  \"944\"  \"945\"  \"946\"  \"947\"  \"948\"  \"949\"  \"950\" \n",
              " [951] \"951\"  \"952\"  \"953\"  \"954\"  \"955\"  \"956\"  \"957\"  \"958\"  \"959\"  \"960\" \n",
              " [961] \"961\"  \"962\"  \"963\"  \"964\"  \"965\"  \"966\"  \"967\"  \"968\"  \"969\"  \"970\" \n",
              " [971] \"971\"  \"972\"  \"973\"  \"974\"  \"975\"  \"976\"  \"977\"  \"978\"  \"979\"  \"980\" \n",
              " [981] \"981\"  \"982\"  \"983\"  \"984\"  \"985\"  \"986\"  \"987\"  \"988\"  \"989\"  \"990\" \n",
              " [991] \"991\"  \"992\"  \"993\"  \"994\"  \"995\"  \"996\"  \"997\"  \"998\"  \"999\"  \"1000\"\n",
              "[1001] \"1001\" \"1002\" \"1003\" \"1004\" \"1005\" \"1006\" \"1007\" \"1008\" \"1009\" \"1010\"\n",
              "[1011] \"1011\" \"1012\" \"1013\" \"1014\" \"1015\" \"1016\" \"1017\" \"1018\" \"1019\" \"1020\"\n",
              "[1021] \"1021\" \"1022\" \"1023\" \"1024\" \"1025\" \"1026\" \"1027\" \"1028\" \"1029\" \"1030\"\n",
              "[1031] \"1031\" \"1032\" \"1033\" \"1034\" \"1035\" \"1036\" \"1037\" \"1038\" \"1039\" \"1040\"\n",
              "[1041] \"1041\" \"1042\" \"1043\" \"1044\" \"1045\" \"1046\" \"1047\" \"1048\" \"1049\" \"1050\"\n",
              "[1051] \"1051\" \"1052\" \"1053\" \"1054\" \"1055\" \"1056\" \"1057\" \"1058\" \"1059\" \"1060\"\n",
              "[1061] \"1061\" \"1062\" \"1063\" \"1064\" \"1065\" \"1066\" \"1067\" \"1068\" \"1069\" \"1070\"\n",
              "[1071] \"1071\" \"1072\" \"1073\" \"1074\" \"1075\" \"1076\" \"1077\" \"1078\" \"1079\" \"1080\"\n",
              "[1081] \"1081\" \"1082\" \"1083\" \"1084\" \"1085\" \"1086\" \"1087\" \"1088\" \"1089\" \"1090\"\n",
              "[1091] \"1091\" \"1092\" \"1093\" \"1094\" \"1095\" \"1096\" \"1097\" \"1098\" \"1099\" \"1100\"\n",
              "[1101] \"1101\" \"1102\" \"1103\" \"1104\" \"1105\" \"1106\" \"1107\" \"1108\" \"1109\" \"1110\"\n",
              "[1111] \"1111\" \"1112\" \"1113\" \"1114\" \"1115\" \"1116\" \"1117\" \"1118\" \"1119\" \"1120\"\n",
              "[1121] \"1121\" \"1122\" \"1123\" \"1124\" \"1125\" \"1126\" \"1127\" \"1128\" \"1129\" \"1130\"\n",
              "[1131] \"1131\" \"1132\" \"1133\" \"1134\" \"1135\" \"1136\" \"1137\" \"1138\" \"1139\" \"1140\"\n",
              "[1141] \"1141\" \"1142\" \"1143\" \"1144\" \"1145\" \"1146\" \"1147\" \"1148\" \"1149\" \"1150\"\n",
              "[1151] \"1151\" \"1152\" \"1153\" \"1154\" \"1155\" \"1156\" \"1157\" \"1158\" \"1159\" \"1160\"\n",
              "[1161] \"1161\" \"1162\" \"1163\" \"1164\" \"1165\" \"1166\" \"1167\" \"1168\" \"1169\" \"1170\"\n",
              "[1171] \"1171\" \"1172\" \"1173\" \"1174\" \"1175\" \"1176\" \"1177\" \"1178\" \"1179\" \"1180\"\n",
              "[1181] \"1181\" \"1182\" \"1183\" \"1184\" \"1185\" \"1186\" \"1187\" \"1188\" \"1189\" \"1190\"\n",
              "[1191] \"1191\" \"1192\" \"1193\" \"1194\" \"1195\" \"1196\" \"1197\" \"1198\" \"1199\" \"1200\"\n",
              "[1201] \"1201\" \"1202\" \"1203\" \"1204\" \"1205\" \"1206\" \"1207\" \"1208\" \"1209\" \"1210\"\n",
              "[1211] \"1211\" \"1212\" \"1213\" \"1214\" \"1215\" \"1216\" \"1217\" \"1218\" \"1219\" \"1220\"\n",
              "[1221] \"1221\" \"1222\" \"1223\" \"1224\" \"1225\" \"1226\" \"1227\" \"1228\" \"1229\" \"1230\"\n",
              "[1231] \"1231\" \"1232\" \"1233\" \"1234\" \"1235\" \"1236\" \"1237\" \"1238\" \"1239\" \"1240\"\n",
              "[1241] \"1241\" \"1242\" \"1243\" \"1244\" \"1245\" \"1246\" \"1247\" \"1248\" \"1249\" \"1250\"\n",
              "[1251] \"1251\" \"1252\" \"1253\" \"1254\" \"1255\" \"1256\" \"1257\" \"1258\" \"1259\" \"1260\"\n",
              "[1261] \"1261\" \"1262\" \"1263\" \"1264\" \"1265\" \"1266\" \"1267\" \"1268\" \"1269\" \"1270\"\n",
              "[1271] \"1271\" \"1272\" \"1273\" \"1274\" \"1275\" \"1276\" \"1277\" \"1278\" \"1279\" \"1280\"\n",
              "[1281] \"1281\" \"1282\" \"1283\" \"1284\" \"1285\" \"1286\" \"1287\" \"1288\" \"1289\" \"1290\"\n",
              "[1291] \"1291\" \"1292\" \"1293\" \"1294\" \"1295\" \"1296\" \"1297\" \"1298\" \"1299\" \"1300\"\n",
              "[1301] \"1301\" \"1302\" \"1303\" \"1304\" \"1305\" \"1306\" \"1307\" \"1308\" \"1309\" \"1310\"\n",
              "[1311] \"1311\" \"1312\" \"1313\" \"1314\" \"1315\" \"1316\" \"1317\" \"1318\" \"1319\" \"1320\"\n",
              "[1321] \"1321\" \"1322\" \"1323\" \"1324\" \"1325\" \"1326\" \"1327\" \"1328\" \"1329\" \"1330\"\n",
              "[1331] \"1331\" \"1332\" \"1333\" \"1334\" \"1335\" \"1336\" \"1337\" \"1338\" \"1339\" \"1340\"\n",
              "[1341] \"1341\" \"1342\" \"1343\" \"1344\" \"1345\" \"1346\" \"1347\" \"1348\" \"1349\" \"1350\"\n",
              "[1351] \"1351\" \"1352\" \"1353\" \"1354\" \"1355\" \"1356\" \"1357\" \"1358\" \"1359\" \"1360\"\n",
              "[1361] \"1361\" \"1362\" \"1363\" \"1364\" \"1365\" \"1366\" \"1367\" \"1368\" \"1369\" \"1370\"\n",
              "[1371] \"1371\" \"1372\" \"1373\" \"1374\" \"1375\" \"1376\" \"1377\" \"1378\" \"1379\" \"1380\"\n",
              "[1381] \"1381\" \"1382\" \"1383\" \"1384\" \"1385\" \"1386\" \"1387\" \"1388\" \"1389\" \"1390\"\n",
              "[1391] \"1391\" \"1392\" \"1393\" \"1394\" \"1395\" \"1396\" \"1397\" \"1398\" \"1399\" \"1400\"\n",
              "[1401] \"1401\" \"1402\" \"1403\" \"1404\" \"1405\" \"1406\" \"1407\" \"1408\" \"1409\" \"1410\"\n",
              "[1411] \"1411\" \"1412\" \"1413\" \"1414\" \"1415\" \"1416\" \"1417\" \"1418\" \"1419\" \"1420\"\n",
              "[1421] \"1421\" \"1422\" \"1423\" \"1424\" \"1425\" \"1426\" \"1427\" \"1428\" \"1429\" \"1430\"\n",
              "[1431] \"1431\" \"1432\" \"1433\" \"1434\" \"1435\" \"1436\" \"1437\" \"1438\" \"1439\" \"1440\"\n",
              "[1441] \"1441\" \"1442\" \"1443\" \"1444\" \"1445\" \"1446\" \"1447\" \"1448\" \"1449\" \"1450\"\n",
              "[1451] \"1451\" \"1452\" \"1453\" \"1454\" \"1455\" \"1456\" \"1457\" \"1458\" \"1459\" \"1460\"\n",
              "[1461] \"1461\" \"1462\" \"1463\" \"1464\" \"1465\" \"1466\" \"1467\" \"1468\" \"1469\" \"1470\"\n",
              "[1471] \"1471\" \"1472\" \"1473\" \"1474\" \"1475\" \"1476\" \"1477\" \"1478\" \"1479\" \"1480\"\n",
              "[1481] \"1481\" \"1482\" \"1483\" \"1484\" \"1485\" \"1486\" \"1487\" \"1488\" \"1489\" \"1490\"\n",
              "[1491] \"1491\" \"1492\" \"1493\" \"1494\" \"1495\" \"1496\" \"1497\" \"1498\" \"1499\" \"1500\"\n",
              "[1501] \"1501\" \"1502\" \"1503\" \"1504\" \"1505\" \"1506\" \"1507\" \"1508\" \"1509\" \"1510\"\n",
              "[1511] \"1511\" \"1512\" \"1513\" \"1514\" \"1515\" \"1516\" \"1517\" \"1518\" \"1519\" \"1520\"\n",
              "[1521] \"1521\" \"1522\" \"1523\" \"1524\" \"1525\" \"1526\" \"1527\" \"1528\" \"1529\" \"1530\"\n",
              "[1531] \"1531\" \"1532\" \"1533\" \"1534\" \"1535\" \"1536\" \"1537\" \"1538\" \"1539\" \"1540\"\n",
              "[1541] \"1541\" \"1542\" \"1543\" \"1544\" \"1545\" \"1546\" \"1547\" \"1548\" \"1549\" \"1550\"\n",
              "[1551] \"1551\" \"1552\" \"1553\" \"1554\" \"1555\" \"1556\" \"1557\" \"1558\" \"1559\" \"1560\"\n",
              "[1561] \"1561\" \"1562\" \"1563\" \"1564\" \"1565\" \"1566\" \"1567\" \"1568\" \"1569\" \"1570\"\n",
              "[1571] \"1571\" \"1572\" \"1573\" \"1574\" \"1575\" \"1576\" \"1577\" \"1578\" \"1579\" \"1580\"\n",
              "[1581] \"1581\" \"1582\" \"1583\" \"1584\" \"1585\" \"1586\" \"1587\" \"1588\" \"1589\" \"1590\"\n",
              "[1591] \"1591\" \"1592\" \"1593\" \"1594\" \"1595\" \"1596\" \"1597\" \"1598\" \"1599\" \"1600\"\n",
              "[1601] \"1601\" \"1602\" \"1603\" \"1604\" \"1605\" \"1606\" \"1607\" \"1608\" \"1609\" \"1610\"\n",
              "[1611] \"1611\" \"1612\" \"1613\" \"1614\" \"1615\" \"1616\" \"1617\" \"1618\" \"1619\" \"1620\"\n",
              "[1621] \"1621\" \"1622\" \"1623\" \"1624\" \"1625\" \"1626\" \"1627\" \"1628\" \"1629\" \"1630\"\n",
              "[1631] \"1631\" \"1632\" \"1633\" \"1634\" \"1635\" \"1636\" \"1637\" \"1638\" \"1639\" \"1640\"\n",
              "[1641] \"1641\" \"1642\" \"1643\" \"1644\" \"1645\" \"1646\" \"1647\" \"1648\" \"1649\" \"1650\"\n",
              "[1651] \"1651\" \"1652\" \"1653\" \"1654\" \"1655\" \"1656\" \"1657\" \"1658\" \"1659\" \"1660\"\n",
              "[1661] \"1661\" \"1662\" \"1663\" \"1664\" \"1665\" \"1666\" \"1667\" \"1668\" \"1669\" \"1670\"\n",
              "[1671] \"1671\" \"1672\" \"1673\" \"1674\" \"1675\" \"1676\" \"1677\" \"1678\" \"1679\" \"1680\"\n",
              "[1681] \"1681\" \"1682\" \"1683\" \"1684\" \"1685\" \"1686\" \"1687\" \"1688\" \"1689\" \"1690\"\n",
              "[1691] \"1691\" \"1692\" \"1693\" \"1694\" \"1695\" \"1696\" \"1697\" \"1698\" \"1699\" \"1700\"\n",
              "[1701] \"1701\" \"1702\" \"1703\" \"1704\" \"1705\" \"1706\" \"1707\" \"1708\" \"1709\" \"1710\"\n",
              "[1711] \"1711\" \"1712\" \"1713\" \"1714\" \"1715\" \"1716\" \"1717\" \"1718\" \"1719\" \"1720\"\n",
              "[1721] \"1721\" \"1722\" \"1723\" \"1724\" \"1725\" \"1726\" \"1727\" \"1728\" \"1729\" \"1730\"\n",
              "[1731] \"1731\" \"1732\" \"1733\" \"1734\" \"1735\" \"1736\" \"1737\" \"1738\" \"1739\" \"1740\"\n",
              "[1741] \"1741\" \"1742\" \"1743\" \"1744\" \"1745\" \"1746\" \"1747\" \"1748\" \"1749\" \"1750\"\n",
              "[1751] \"1751\" \"1752\" \"1753\" \"1754\" \"1755\" \"1756\" \"1757\" \"1758\" \"1759\" \"1760\"\n",
              "[1761] \"1761\" \"1762\" \"1763\" \"1764\" \"1765\" \"1766\" \"1767\" \"1768\" \"1769\" \"1770\"\n",
              "[1771] \"1771\" \"1772\" \"1773\" \"1774\" \"1775\" \"1776\" \"1777\" \"1778\" \"1779\" \"1780\"\n",
              "[1781] \"1781\" \"1782\" \"1783\" \"1784\" \"1785\" \"1786\" \"1787\" \"1788\" \"1789\" \"1790\"\n",
              "[1791] \"1791\" \"1792\" \"1793\" \"1794\" \"1795\" \"1796\" \"1797\" \"1798\" \"1799\" \"1800\"\n",
              "[1801] \"1801\" \"1802\" \"1803\" \"1804\" \"1805\" \"1806\" \"1807\" \"1808\" \"1809\" \"1810\"\n",
              "[1811] \"1811\" \"1812\" \"1813\" \"1814\" \"1815\" \"1816\" \"1817\" \"1818\" \"1819\" \"1820\"\n",
              "[1821] \"1821\" \"1822\" \"1823\" \"1824\" \"1825\" \"1826\" \"1827\" \"1828\" \"1829\" \"1830\"\n",
              "[1831] \"1831\" \"1832\" \"1833\" \"1834\" \"1835\" \"1836\" \"1837\" \"1838\" \"1839\" \"1840\"\n",
              "[1841] \"1841\" \"1842\" \"1843\" \"1844\" \"1845\" \"1846\" \"1847\" \"1848\" \"1849\" \"1850\"\n",
              "[1851] \"1851\" \"1852\" \"1853\" \"1854\" \"1855\" \"1856\" \"1857\" \"1858\" \"1859\" \"1860\"\n",
              "[1861] \"1861\" \"1862\" \"1863\" \"1864\" \"1865\" \"1866\" \"1867\" \"1868\" \"1869\" \"1870\"\n",
              "[1871] \"1871\" \"1872\" \"1873\" \"1874\" \"1875\" \"1876\" \"1877\" \"1878\" \"1879\" \"1880\"\n",
              "[1881] \"1881\" \"1882\" \"1883\" \"1884\" \"1885\" \"1886\" \"1887\" \"1888\" \"1889\" \"1890\"\n",
              "[1891] \"1891\" \"1892\" \"1893\" \"1894\" \"1895\" \"1896\" \"1897\" \"1898\" \"1899\" \"1900\"\n",
              "[1901] \"1901\" \"1902\" \"1903\" \"1904\" \"1905\" \"1906\" \"1907\" \"1908\" \"1909\" \"1910\"\n",
              "[1911] \"1911\" \"1912\" \"1913\" \"1914\" \"1915\" \"1916\" \"1917\" \"1918\" \"1919\" \"1920\"\n",
              "[1921] \"1921\" \"1922\" \"1923\" \"1924\" \"1925\" \"1926\" \"1927\" \"1928\" \"1929\" \"1930\"\n",
              "[1931] \"1931\" \"1932\" \"1933\" \"1934\" \"1935\" \"1936\" \"1937\" \"1938\" \"1939\" \"1940\"\n",
              "[1941] \"1941\" \"1942\" \"1943\" \"1944\" \"1945\" \"1946\" \"1947\" \"1948\" \"1949\" \"1950\"\n",
              "[1951] \"1951\" \"1952\" \"1953\" \"1954\" \"1955\" \"1956\" \"1957\" \"1958\" \"1959\" \"1960\"\n",
              "[1961] \"1961\" \"1962\" \"1963\" \"1964\" \"1965\" \"1966\" \"1967\" \"1968\" \"1969\" \"1970\"\n",
              "[1971] \"1971\" \"1972\" \"1973\" \"1974\" \"1975\" \"1976\" \"1977\" \"1978\" \"1979\" \"1980\"\n",
              "[1981] \"1981\" \"1982\" \"1983\" \"1984\" \"1985\" \"1986\" \"1987\" \"1988\" \"1989\" \"1990\"\n",
              "[1991] \"1991\" \"1992\" \"1993\" \"1994\" \"1995\" \"1996\" \"1997\" \"1998\" \"1999\" \"2000\"\n",
              "[2001] \"2001\" \"2002\" \"2003\" \"2004\" \"2005\" \"2006\" \"2007\" \"2008\" \"2009\" \"2010\"\n",
              "[2011] \"2011\" \"2012\" \"2013\" \"2014\" \"2015\" \"2016\" \"2017\" \"2018\" \"2019\" \"2020\"\n",
              "[2021] \"2021\" \"2022\" \"2023\" \"2024\" \"2025\" \"2026\" \"2027\" \"2028\" \"2029\" \"2030\"\n",
              "[2031] \"2031\" \"2032\" \"2033\" \"2034\" \"2035\" \"2036\" \"2037\" \"2038\" \"2039\" \"2040\"\n",
              "[2041] \"2041\" \"2042\" \"2043\" \"2044\" \"2045\" \"2046\" \"2047\" \"2048\" \"2049\" \"2050\"\n",
              "[2051] \"2051\" \"2052\" \"2053\" \"2054\" \"2055\" \"2056\" \"2057\" \"2058\" \"2059\" \"2060\"\n",
              "[2061] \"2061\" \"2062\" \"2063\" \"2064\" \"2065\" \"2066\" \"2067\" \"2068\" \"2069\" \"2070\"\n",
              "[2071] \"2071\" \"2072\" \"2073\" \"2074\" \"2075\" \"2076\" \"2077\" \"2078\" \"2079\" \"2080\"\n",
              "[2081] \"2081\" \"2082\" \"2083\" \"2084\" \"2085\" \"2086\" \"2087\" \"2088\" \"2089\" \"2090\"\n",
              "[2091] \"2091\" \"2092\" \"2093\" \"2094\" \"2095\" \"2096\" \"2097\" \"2098\" \"2099\" \"2100\"\n",
              "[2101] \"2101\" \"2102\" \"2103\" \"2104\" \"2105\" \"2106\" \"2107\" \"2108\" \"2109\" \"2110\"\n",
              "[2111] \"2111\" \"2112\" \"2113\" \"2114\" \"2115\" \"2116\" \"2117\" \"2118\" \"2119\" \"2120\"\n",
              "[2121] \"2121\" \"2122\" \"2123\" \"2124\" \"2125\" \"2126\" \"2127\" \"2128\" \"2129\" \"2130\"\n",
              "[2131] \"2131\" \"2132\" \"2133\" \"2134\" \"2135\" \"2136\" \"2137\" \"2138\" \"2139\" \"2140\"\n",
              "[2141] \"2141\" \"2142\" \"2143\" \"2144\" \"2145\" \"2146\" \"2147\" \"2148\" \"2149\" \"2150\"\n",
              "[2151] \"2151\" \"2152\" \"2153\" \"2154\" \"2155\" \"2156\" \"2157\" \"2158\" \"2159\" \"2160\"\n",
              "[2161] \"2161\" \"2162\" \"2163\" \"2164\" \"2165\" \"2166\" \"2167\" \"2168\" \"2169\" \"2170\"\n",
              "[2171] \"2171\" \"2172\" \"2173\" \"2174\" \"2175\" \"2176\" \"2177\" \"2178\" \"2179\" \"2180\"\n",
              "[2181] \"2181\" \"2182\" \"2183\" \"2184\" \"2185\" \"2186\" \"2187\" \"2188\" \"2189\" \"2190\"\n",
              "[2191] \"2191\" \"2192\" \"2193\" \"2194\" \"2195\" \"2196\" \"2197\" \"2198\" \"2199\" \"2200\"\n",
              "[2201] \"2201\" \"2202\" \"2203\" \"2204\" \"2205\" \"2206\" \"2207\" \"2208\" \"2209\" \"2210\"\n",
              "[2211] \"2211\" \"2212\" \"2213\" \"2214\" \"2215\" \"2216\" \"2217\" \"2218\" \"2219\" \"2220\"\n",
              "[2221] \"2221\" \"2222\" \"2223\" \"2224\" \"2225\" \"2226\" \"2227\" \"2228\" \"2229\" \"2230\"\n",
              "[2231] \"2231\" \"2232\" \"2233\" \"2234\" \"2235\" \"2236\" \"2237\" \"2238\" \"2239\" \"2240\"\n",
              "[2241] \"2241\" \"2242\" \"2243\" \"2244\" \"2245\" \"2246\" \"2247\" \"2248\" \"2249\" \"2250\"\n",
              "[2251] \"2251\" \"2252\" \"2253\" \"2254\" \"2255\" \"2256\" \"2257\" \"2258\" \"2259\" \"2260\"\n",
              "[2261] \"2261\" \"2262\" \"2263\" \"2264\" \"2265\" \"2266\" \"2267\" \"2268\" \"2269\" \"2270\"\n",
              "[2271] \"2271\" \"2272\" \"2273\" \"2274\" \"2275\" \"2276\" \"2277\" \"2278\" \"2279\" \"2280\"\n",
              "[2281] \"2281\" \"2282\" \"2283\" \"2284\" \"2285\" \"2286\" \"2287\" \"2288\" \"2289\" \"2290\"\n",
              "[2291] \"2291\" \"2292\" \"2293\" \"2294\" \"2295\" \"2296\" \"2297\" \"2298\" \"2299\" \"2300\"\n",
              "[2301] \"2301\" \"2302\" \"2303\" \"2304\" \"2305\" \"2306\" \"2307\" \"2308\" \"2309\" \"2310\"\n",
              "[2311] \"2311\" \"2312\" \"2313\" \"2314\" \"2315\" \"2316\" \"2317\" \"2318\" \"2319\" \"2320\"\n",
              "[2321] \"2321\" \"2322\" \"2323\" \"2324\" \"2325\" \"2326\" \"2327\" \"2328\" \"2329\" \"2330\"\n",
              "[2331] \"2331\" \"2332\" \"2333\" \"2334\" \"2335\" \"2336\" \"2337\" \"2338\" \"2339\" \"2340\"\n",
              "[2341] \"2341\" \"2342\" \"2343\" \"2344\" \"2345\" \"2346\" \"2347\" \"2348\" \"2349\" \"2350\"\n",
              "[2351] \"2351\" \"2352\" \"2353\" \"2354\" \"2355\" \"2356\" \"2357\" \"2358\" \"2359\" \"2360\"\n",
              "[2361] \"2361\" \"2362\" \"2363\" \"2364\" \"2365\" \"2366\" \"2367\" \"2368\" \"2369\" \"2370\"\n",
              "[2371] \"2371\" \"2372\" \"2373\" \"2374\" \"2375\" \"2376\" \"2377\" \"2378\" \"2379\" \"2380\"\n",
              "[2381] \"2381\" \"2382\" \"2383\" \"2384\" \"2385\" \"2386\" \"2387\" \"2388\" \"2389\" \"2390\"\n",
              "[2391] \"2391\" \"2392\" \"2393\" \"2394\" \"2395\" \"2396\" \"2397\" \"2398\" \"2399\" \"2400\"\n",
              "[2401] \"2401\" \"2402\" \"2403\" \"2404\" \"2405\" \"2406\" \"2407\" \"2408\" \"2409\" \"2410\"\n",
              "[2411] \"2411\" \"2412\" \"2413\" \"2414\" \"2415\" \"2416\" \"2417\" \"2418\" \"2419\" \"2420\"\n",
              "[2421] \"2421\" \"2422\" \"2423\" \"2424\" \"2425\" \"2426\" \"2427\" \"2428\" \"2429\" \"2430\"\n",
              "[2431] \"2431\" \"2432\" \"2433\" \"2434\" \"2435\" \"2436\" \"2437\" \"2438\" \"2439\" \"2440\"\n",
              "[2441] \"2441\" \"2442\" \"2443\" \"2444\" \"2445\" \"2446\" \"2447\" \"2448\" \"2449\" \"2450\"\n",
              "[2451] \"2451\" \"2452\" \"2453\" \"2454\" \"2455\" \"2456\" \"2457\" \"2458\" \"2459\" \"2460\"\n",
              "[2461] \"2461\" \"2462\" \"2463\" \"2464\" \"2465\" \"2466\" \"2467\" \"2468\" \"2469\" \"2470\"\n",
              "[2471] \"2471\" \"2472\" \"2473\" \"2474\" \"2475\" \"2476\" \"2477\" \"2478\" \"2479\" \"2480\"\n",
              "[2481] \"2481\" \"2482\" \"2483\" \"2484\" \"2485\" \"2486\" \"2487\" \"2488\" \"2489\" \"2490\"\n",
              "[2491] \"2491\" \"2492\" \"2493\" \"2494\" \"2495\" \"2496\" \"2497\" \"2498\" \"2499\" \"2500\"\n",
              "[2501] \"2501\" \"2502\" \"2503\" \"2504\" \"2505\" \"2506\" \"2507\" \"2508\" \"2509\" \"2510\"\n",
              "[2511] \"2511\" \"2512\" \"2513\" \"2514\" \"2515\""
            ]
          },
          "metadata": {}
        }
      ],
      "source": [
        "# afficher les premières lignes de tableau\n",
        "head(data_var)\n",
        "# afficher la structure génerale\n",
        "str(data_var)\n",
        "#type de l'objet\n",
        "class(data_var)\n",
        "#type interne des élements\n",
        "typeof(data_var)\n",
        "#noms des colones et lignes\n",
        "colnames(data_var)\n",
        "rownames(data_var)"
      ]
    },
    {
      "cell_type": "markdown",
      "source": [
        "# construire une data frame"
      ],
      "metadata": {
        "id": "IbGKFRQZI_NP"
      }
    },
    {
      "cell_type": "markdown",
      "source": [
        "# Regrouper les variables dans une structure de  basse de données"
      ],
      "metadata": {
        "id": "aLDnS4-lQSON"
      }
    },
    {
      "cell_type": "code",
      "source": [
        "\n",
        "rendement=data_var$rendement_simple_sp500\n",
        "volatilite= data_var$volatilite_estimee_VIX\n",
        "volume = data_var$volume_sp500\n",
        "var_data = data.frame(rendement,volatilite,volume)"
      ],
      "metadata": {
        "id": "8HAWI-bwLDZJ"
      },
      "execution_count": 11,
      "outputs": []
    },
    {
      "cell_type": "markdown",
      "source": [
        "## Test de stationnarité ADF pour chaque variable"
      ],
      "metadata": {
        "id": "pg2Pt8ajQZHU"
      }
    },
    {
      "cell_type": "code",
      "execution_count": 16,
      "metadata": {
        "colab": {
          "base_uri": "https://localhost:8080/",
          "height": 607
        },
        "id": "WH29cOzg0YZu",
        "outputId": "28191ced-29ee-46d8-a97a-535b6186cb72"
      },
      "outputs": [
        {
          "output_type": "stream",
          "name": "stderr",
          "text": [
            "Installing package into ‘/usr/local/lib/R/site-library’\n",
            "(as ‘lib’ is unspecified)\n",
            "\n",
            "also installing the dependencies ‘xts’, ‘TTR’, ‘quadprog’, ‘zoo’, ‘quantmod’\n",
            "\n",
            "\n",
            "Registered S3 method overwritten by 'quantmod':\n",
            "  method            from\n",
            "  as.zoo.data.frame zoo \n",
            "\n",
            "Warning message in adf.test(data_var$volatilite_estimee_VIX):\n",
            "“p-value smaller than printed p-value”\n"
          ]
        },
        {
          "output_type": "display_data",
          "data": {
            "text/plain": [
              "\n",
              "\tAugmented Dickey-Fuller Test\n",
              "\n",
              "data:  data_var$volatilite_estimee_VIX\n",
              "Dickey-Fuller = -10.128, Lag order = 13, p-value = 0.01\n",
              "alternative hypothesis: stationary\n"
            ]
          },
          "metadata": {}
        },
        {
          "output_type": "stream",
          "name": "stderr",
          "text": [
            "Warning message in adf.test(data_var$volume_sp500):\n",
            "“p-value smaller than printed p-value”\n"
          ]
        },
        {
          "output_type": "display_data",
          "data": {
            "text/plain": [
              "\n",
              "\tAugmented Dickey-Fuller Test\n",
              "\n",
              "data:  data_var$volume_sp500\n",
              "Dickey-Fuller = -6.7761, Lag order = 13, p-value = 0.01\n",
              "alternative hypothesis: stationary\n"
            ]
          },
          "metadata": {}
        },
        {
          "output_type": "stream",
          "name": "stderr",
          "text": [
            "Warning message in adf.test(data_var$rendement_simple_sp500):\n",
            "“p-value smaller than printed p-value”\n"
          ]
        },
        {
          "output_type": "display_data",
          "data": {
            "text/plain": [
              "\n",
              "\tAugmented Dickey-Fuller Test\n",
              "\n",
              "data:  data_var$rendement_simple_sp500\n",
              "Dickey-Fuller = -14.174, Lag order = 13, p-value = 0.01\n",
              "alternative hypothesis: stationary\n"
            ]
          },
          "metadata": {}
        }
      ],
      "source": [
        "\n",
        "install.packages(\"tseries\")\n",
        "library(tseries)\n",
        "\n",
        "# Test de stationnarité ADF pour chaque variable\n",
        "adf.test(data_var$volatilite_estimee_VIX)      # Test ADF sur rendement\n",
        "adf.test(data_var$volume_sp500)                # Test ADF sur volatilité\n",
        "adf.test(data_var$rendement_simple_sp500)      # Test ADF sur volume\n",
        "\n",
        "\n",
        "\n"
      ]
    },
    {
      "cell_type": "markdown",
      "source": [
        "## Les p-values sont toutes inférieures à 0.05, ce qui rejette l'hypothèse nulle c'est a dire que Les résultats du test Augmented Dickey-Fuller (ADF) montrent que toutes tes variables sont stationnaires"
      ],
      "metadata": {
        "id": "Zri8XBz5LiOI"
      }
    },
    {
      "cell_type": "code",
      "execution_count": 19,
      "metadata": {
        "colab": {
          "base_uri": "https://localhost:8080/"
        },
        "id": "SHYixPDE2QfU",
        "outputId": "4e8b08d5-ea31-4688-951e-64b5a977b5f8"
      },
      "outputs": [
        {
          "output_type": "stream",
          "name": "stderr",
          "text": [
            "Installing package into ‘/usr/local/lib/R/site-library’\n",
            "(as ‘lib’ is unspecified)\n",
            "\n"
          ]
        },
        {
          "output_type": "stream",
          "name": "stdout",
          "text": [
            "AIC(n)  HQ(n)  SC(n) FPE(n) \n",
            "    10      4      4     10 \n"
          ]
        }
      ],
      "source": [
        "install.packages(\"vars\")\n",
        "library(vars)\n",
        "\n",
        "\n",
        "\n",
        "# Choix automatique du lag\n",
        "lagselect <- VARselect(var_data, lag.max = 10, type = \"const\")\n",
        "print(lagselect$selection)  # Choisir selon AIC ou BIC\n"
      ]
    },
    {
      "cell_type": "code",
      "source": [
        "\n",
        "var_model <- VAR(var_data, p = 4, type = \"const\")\n"
      ],
      "metadata": {
        "id": "3-rTbqxEFSz5"
      },
      "execution_count": 20,
      "outputs": []
    },
    {
      "cell_type": "markdown",
      "source": [
        "## Test de causalité de Granger"
      ],
      "metadata": {
        "id": "inemkm9TIFL9"
      }
    },
    {
      "cell_type": "code",
      "source": [
        "# Extraire les p-values\n",
        "pval_rendement <- test_causalite_rendement$Granger$p.value\n",
        "pval_volatilite <- test_causalite_volatilite$Granger$p.value\n",
        "pval_volume <- test_causalite_volume$Granger$p.value"
      ],
      "metadata": {
        "colab": {
          "base_uri": "https://localhost:8080/",
          "height": 72
        },
        "id": "DcndkbXRI-QH",
        "outputId": "5cd1cee6-e87e-4935-d859-99b3fd439ba4"
      },
      "execution_count": 24,
      "outputs": [
        {
          "output_type": "error",
          "ename": "ERROR",
          "evalue": "Error: object 'test_causalite_rendement' not found\n",
          "traceback": [
            "Error: object 'test_causalite_rendement' not found\nTraceback:\n"
          ]
        }
      ]
    },
    {
      "cell_type": "markdown",
      "source": [
        "\n",
        "lorsqu'on est en train de faire le test de causalité, le test n'existe pas. Alors, on cherche le problème en déclarant que les variables ont une forte corrélation alors que les variables n'ont aucune relation de corrélation réellement. Après avoir analysé le problème, on remarque que les chiffres de données sont très grands, donc on applique le log"
      ],
      "metadata": {
        "id": "QxQEwo7aODXA"
      }
    },
    {
      "cell_type": "code",
      "source": [
        "cor_matrix <- cor(var_data)\n",
        "print(cor_matrix)"
      ],
      "metadata": {
        "colab": {
          "base_uri": "https://localhost:8080/"
        },
        "id": "664iEVO4JXMp",
        "outputId": "c6b28830-ec10-4138-df77-bbc6535abb42"
      },
      "execution_count": 26,
      "outputs": [
        {
          "output_type": "stream",
          "name": "stdout",
          "text": [
            "             rendement volatilite      volume\n",
            "rendement   1.00000000 -0.1924411 -0.08439754\n",
            "volatilite -0.19244110  1.0000000  0.30313535\n",
            "volume     -0.08439754  0.3031353  1.00000000\n"
          ]
        }
      ]
    },
    {
      "cell_type": "code",
      "source": [
        "data_var_log <- data.frame(\n",
        "  rendement = data_var$rendement_simple_sp500,  # Pas de log sur rendement (déjà un pourcentage/changement)\n",
        "  volatilite = log(data_var$volatilite_estimee_VIX),\n",
        "  volume = log(data_var$volume_sp500)\n",
        ")\n"
      ],
      "metadata": {
        "id": "IJlr0wPDJE_i"
      },
      "execution_count": 29,
      "outputs": []
    },
    {
      "cell_type": "code",
      "source": [
        "library(vars)\n",
        "var_model_log <- VAR(data_var_log, p = 4, type = \"const\")\n",
        "# Choix automatique du lag\n",
        "lagselect <- VARselect(data_var_log, lag.max = 10, type = \"const\")\n",
        "print(lagselect$selection)  # Choisir selon AIC ou BIC\n"
      ],
      "metadata": {
        "colab": {
          "base_uri": "https://localhost:8080/"
        },
        "id": "S1U8L9EQK5-X",
        "outputId": "0e8b123c-b325-4393-8de1-01ccc776f468"
      },
      "execution_count": 31,
      "outputs": [
        {
          "output_type": "stream",
          "name": "stdout",
          "text": [
            "AIC(n)  HQ(n)  SC(n) FPE(n) \n",
            "    10      5      4     10 \n"
          ]
        }
      ]
    },
    {
      "cell_type": "code",
      "source": [
        "test_causalite_rendement=causality(var_model_log, cause = \"volatilite\")\n",
        "test_causalite_volatilite=causality(var_model_log, cause = \"volume\")\n",
        "test_causalite_volume = causality(var_model_log, cause = \"rendement\")\n",
        "\n"
      ],
      "metadata": {
        "id": "YGnVSTEmIOb5"
      },
      "execution_count": 34,
      "outputs": []
    },
    {
      "cell_type": "code",
      "source": [
        "# Extraire les p-values\n",
        "pval_rendement <- test_causalite_rendement$Granger$p.value\n",
        "pval_volatilite <- test_causalite_volatilite$Granger$p.value\n",
        "pval_volume <- test_causalite_volume$Granger$p.value\n",
        "\n",
        "# Construire un tableau récapitulatif\n",
        "causalite_table <- data.frame(\n",
        "  Cause = c(\"rendement\", \"volatilite\", \"volume\"),\n",
        "  P_Value = c(pval_rendement, pval_volatilite, pval_volume),\n",
        "  Decision = c(\n",
        "    ifelse(pval_rendement < 0.05, \"Causalité\", \"Pas de causalité\"),\n",
        "    ifelse(pval_volatilite < 0.05, \"Causalité\", \"Pas de causalité\"),\n",
        "    ifelse(pval_volume < 0.05, \"Causalité\", \"Pas de causalité\")\n",
        "  )\n",
        ")\n",
        "\n",
        "# Afficher le tableau\n",
        "print(causalite_table)"
      ],
      "metadata": {
        "colab": {
          "base_uri": "https://localhost:8080/"
        },
        "id": "V3unU-eOLfSk",
        "outputId": "ae22191e-c6b5-4578-ef06-40ad6a0081b9"
      },
      "execution_count": 35,
      "outputs": [
        {
          "output_type": "stream",
          "name": "stdout",
          "text": [
            "       Cause      P_Value         Decision\n",
            "1  rendement 3.571263e-01 Pas de causalité\n",
            "2 volatilite 3.313484e-02        Causalité\n",
            "3     volume 2.686440e-11        Causalité\n"
          ]
        }
      ]
    },
    {
      "cell_type": "code",
      "source": [
        "stability(var_model_log)\n",
        "roots(var_model_log)   # Tous les modules doivent être < 1\n"
      ],
      "metadata": {
        "colab": {
          "base_uri": "https://localhost:8080/",
          "height": 451
        },
        "id": "cAkLyXMcMyJv",
        "outputId": "47d45197-fb71-4faf-c045-ca03ee28c23a"
      },
      "execution_count": 37,
      "outputs": [
        {
          "output_type": "display_data",
          "data": {
            "text/plain": [
              "$rendement\n",
              "\n",
              "Empirical Fluctuation Process: OLS-based CUSUM test \n",
              "\n",
              "Call: efp(formula = formula, data = data, type = type, h = h, dynamic = dynamic, \n",
              "    rescale = rescale)\n",
              "\n",
              "\n",
              "$volatilite\n",
              "\n",
              "Empirical Fluctuation Process: OLS-based CUSUM test \n",
              "\n",
              "Call: efp(formula = formula, data = data, type = type, h = h, dynamic = dynamic, \n",
              "    rescale = rescale)\n",
              "\n",
              "\n",
              "$volume\n",
              "\n",
              "Empirical Fluctuation Process: OLS-based CUSUM test \n",
              "\n",
              "Call: efp(formula = formula, data = data, type = type, h = h, dynamic = dynamic, \n",
              "    rescale = rescale)\n",
              "\n"
            ]
          },
          "metadata": {}
        },
        {
          "output_type": "display_data",
          "data": {
            "text/html": [
              "<style>\n",
              ".list-inline {list-style: none; margin:0; padding: 0}\n",
              ".list-inline>li {display: inline-block}\n",
              ".list-inline>li:not(:last-child)::after {content: \"\\00b7\"; padding: 0 .5ex}\n",
              "</style>\n",
              "<ol class=list-inline><li>0.889475204740321</li><li>0.799744255501813</li><li>0.517374456884412</li><li>0.517374456884412</li><li>0.515110312770616</li><li>0.515110312770616</li><li>0.500116909552602</li><li>0.500116909552602</li><li>0.499031600161005</li><li>0.499031600161005</li><li>0.479236527370998</li><li>0.479236527370998</li></ol>\n"
            ],
            "text/markdown": "1. 0.889475204740321\n2. 0.799744255501813\n3. 0.517374456884412\n4. 0.517374456884412\n5. 0.515110312770616\n6. 0.515110312770616\n7. 0.500116909552602\n8. 0.500116909552602\n9. 0.499031600161005\n10. 0.499031600161005\n11. 0.479236527370998\n12. 0.479236527370998\n\n\n",
            "text/latex": "\\begin{enumerate*}\n\\item 0.889475204740321\n\\item 0.799744255501813\n\\item 0.517374456884412\n\\item 0.517374456884412\n\\item 0.515110312770616\n\\item 0.515110312770616\n\\item 0.500116909552602\n\\item 0.500116909552602\n\\item 0.499031600161005\n\\item 0.499031600161005\n\\item 0.479236527370998\n\\item 0.479236527370998\n\\end{enumerate*}\n",
            "text/plain": [
              " [1] 0.8894752 0.7997443 0.5173745 0.5173745 0.5151103 0.5151103 0.5001169\n",
              " [8] 0.5001169 0.4990316 0.4990316 0.4792365 0.4792365"
            ]
          },
          "metadata": {}
        }
      ]
    },
    {
      "cell_type": "markdown",
      "source": [
        "## Tous les modules doivent est  < 1"
      ],
      "metadata": {
        "id": "geFX48S2NGSy"
      }
    },
    {
      "cell_type": "markdown",
      "source": [
        "\n",
        "##  Fonctions de Réponse Impulsionnelle (IRF)"
      ],
      "metadata": {
        "id": "McR-Xa2OQgtW"
      }
    },
    {
      "cell_type": "code",
      "source": [
        "irf_result <- irf(var_model_log, impulse = \"rendement\", response = \"volatilite\", n.ahead = 20, boot = TRUE)\n",
        "plot(irf_result)\n"
      ],
      "metadata": {
        "colab": {
          "base_uri": "https://localhost:8080/",
          "height": 437
        },
        "id": "BOHwCylZQw9F",
        "outputId": "33450809-02a8-45af-8397-b5abb2124d34"
      },
      "execution_count": 38,
      "outputs": [
        {
          "output_type": "display_data",
          "data": {
            "text/plain": [
              "plot without title"
            ],
            "image/png": "[encoded data removed]"
          },
          "metadata": {
            "image/png": {
              "width": 420,
              "height": 420
            }
          }
        }
      ]
    },
    {
      "cell_type": "markdown",
      "source": [
        "ça montre comment volatilité réagit à un choc sur rendement sur 20 périodes"
      ],
      "metadata": {
        "id": "m-ZID45CRAKc"
      }
    },
    {
      "cell_type": "markdown",
      "source": [
        "## Décomposition de la variance des erreurs de prévision"
      ],
      "metadata": {
        "id": "K3XIR5VWRG1l"
      }
    },
    {
      "cell_type": "code",
      "source": [
        "fevd_result <- fevd(var_model_log, n.ahead = 20)\n",
        "plot(fevd_result)\n"
      ],
      "metadata": {
        "colab": {
          "base_uri": "https://localhost:8080/",
          "height": 437
        },
        "id": "UbIo475DRJE7",
        "outputId": "f493a07a-06a6-4e25-cc8e-ebb693c98ae5"
      },
      "execution_count": 39,
      "outputs": [
        {
          "output_type": "display_data",
          "data": {
            "text/plain": [
              "Plot with title “FEVD for volume”"
            ],
            "image/png": "[encoded data removed]"
          },
          "metadata": {
            "image/png": {
              "width": 420,
              "height": 420
            }
          }
        }
      ]
    },
    {
      "cell_type": "markdown",
      "source": [
        "ça te donne quelle variable explique quel pourcentage de l'erreur de prévision"
      ],
      "metadata": {
        "id": "oQfI_h-iRYeN"
      }
    },
    {
      "cell_type": "markdown",
      "source": [
        "## Vérifier les résidus (diagnostic)"
      ],
      "metadata": {
        "id": "vrrFSoFyRdVx"
      }
    },
    {
      "cell_type": "code",
      "source": [
        "# Autocorrélation des résidus (Ljung-Box)\n",
        "serial.test(var_model_log, lags.pt = 20, type = \"PT.asymptotic\")\n",
        "#Normalité des résidus\n",
        "normality.test(var_model_log)\n",
        "#Stabilité du modèle\n",
        "stability_test <- stability(var_model_log, type = \"OLS-CUSUM\")\n",
        "plot(stability_test)\n"
      ],
      "metadata": {
        "colab": {
          "base_uri": "https://localhost:8080/",
          "height": 1000
        },
        "id": "Ba8vq2DFRfmE",
        "outputId": "2b267285-5a77-4582-c843-e44000a8fd14"
      },
      "execution_count": 42,
      "outputs": [
        {
          "output_type": "display_data",
          "data": {
            "text/plain": [
              "\n",
              "\tPortmanteau Test (asymptotic)\n",
              "\n",
              "data:  Residuals of VAR object var_model_log\n",
              "Chi-squared = 300.17, df = 144, p-value = 4.817e-13\n",
              "\n",
              "$serial\n",
              "\n",
              "\tPortmanteau Test (asymptotic)\n",
              "\n",
              "data:  Residuals of VAR object var_model_log\n",
              "Chi-squared = 300.17, df = 144, p-value = 4.817e-13\n",
              "\n"
            ]
          },
          "metadata": {}
        },
        {
          "output_type": "display_data",
          "data": {
            "text/plain": [
              "$JB\n",
              "\n",
              "\tJB-Test (multivariate)\n",
              "\n",
              "data:  Residuals of VAR object var_model_log\n",
              "Chi-squared = 8838.8, df = 6, p-value < 2.2e-16\n",
              "\n",
              "\n",
              "$Skewness\n",
              "\n",
              "\tSkewness only (multivariate)\n",
              "\n",
              "data:  Residuals of VAR object var_model_log\n",
              "Chi-squared = 200.62, df = 3, p-value < 2.2e-16\n",
              "\n",
              "\n",
              "$Kurtosis\n",
              "\n",
              "\tKurtosis only (multivariate)\n",
              "\n",
              "data:  Residuals of VAR object var_model_log\n",
              "Chi-squared = 8638.2, df = 3, p-value < 2.2e-16\n",
              "\n",
              "\n",
              "$jb.mul\n",
              "$jb.mul$JB\n",
              "\n",
              "\tJB-Test (multivariate)\n",
              "\n",
              "data:  Residuals of VAR object var_model_log\n",
              "Chi-squared = 8838.8, df = 6, p-value < 2.2e-16\n",
              "\n",
              "\n",
              "$jb.mul$Skewness\n",
              "\n",
              "\tSkewness only (multivariate)\n",
              "\n",
              "data:  Residuals of VAR object var_model_log\n",
              "Chi-squared = 200.62, df = 3, p-value < 2.2e-16\n",
              "\n",
              "\n",
              "$jb.mul$Kurtosis\n",
              "\n",
              "\tKurtosis only (multivariate)\n",
              "\n",
              "data:  Residuals of VAR object var_model_log\n",
              "Chi-squared = 8638.2, df = 3, p-value < 2.2e-16\n",
              "\n",
              "\n"
            ]
          },
          "metadata": {}
        },
        {
          "output_type": "display_data",
          "data": {
            "text/plain": [
              "Plot with title “OLS-CUSUM of equation volume”"
            ],
            "image/png": "[encoded data removed]"
          },
          "metadata": {
            "image/png": {
              "width": 420,
              "height": 420
            }
          }
        }
      ]
    },
    {
      "cell_type": "markdown",
      "source": [
        "Si p-value > 0.05 ➔ Pas d'autocorrélation résiduelle  "
      ],
      "metadata": {
        "id": "O8BiMLx4R64o"
      }
    }
  ],
  "metadata": {
    "colab": {
      "provenance": [],
      "authorship_tag": "ABX9TyOUpOmdqcs3Bj3HKnMrnhMk",
      "include_colab_link": true
    },
    "kernelspec": {
      "display_name": "R",
      "name": "ir"
    },
    "language_info": {
      "name": "R"
    }
  },
  "nbformat": 4,
  "nbformat_minor": 0
}