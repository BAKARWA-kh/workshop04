{
  "nbformat": 4,
  "nbformat_minor": 0,
  "metadata": {
    "colab": {
      "provenance": [],
      "authorship_tag": "ABX9TyOWUvfe3KWJAtm0iKeU9Dfq",
      "include_colab_link": true
    },
    "kernelspec": {
      "name": "ir",
      "display_name": "R"
    },
    "language_info": {
      "name": "R"
    }
  },
  "cells": [
    {
      "cell_type": "markdown",
      "metadata": {
        "id": "view-in-github",
        "colab_type": "text"
      },
      "source": [
        "<a href=\"https://colab.research.google.com/github/BAKARWA-kh/workshop04/blob/main/pr%C3%A9diction_de_model_avec_bestsubsets.ipynb\" target=\"_parent\"><img src=\"https://colab.research.google.com/assets/colab-badge.svg\" alt=\"Open In Colab\"/></a>"
      ]
    },
    {
      "cell_type": "markdown",
      "source": [
        "# Importation des données"
      ],
      "metadata": {
        "id": "yWUSrm8PTnJ-"
      }
    },
    {
      "cell_type": "code",
      "execution_count": 12,
      "metadata": {
        "colab": {
          "base_uri": "https://localhost:8080/"
        },
        "id": "Mj1UmKlGL4_Q",
        "outputId": "1ef18cbf-3bbf-4883-a869-14b64f0f94b4"
      },
      "outputs": [
        {
          "output_type": "stream",
          "name": "stderr",
          "text": [
            "Installing package into ‘/usr/local/lib/R/site-library’\n",
            "(as ‘lib’ is unspecified)\n",
            "\n"
          ]
        }
      ],
      "source": [
        "# Installation de readxl dans Google Colab\n",
        "install.packages(\"readxl\")\n",
        "library(readxl)\n",
        "# Nommées les données\n",
        "# Pour commencer, il faut importer les données sur Google Collab, puis copier le chemin d'accès\n",
        "data_model =read_excel(\"/data.xlsx\")\n",
        "\n"
      ]
    },
    {
      "cell_type": "markdown",
      "source": [
        "Quelques codes pour comprendre la structure des données"
      ],
      "metadata": {
        "id": "GuNVmt-uWrmn"
      }
    },
    {
      "cell_type": "code",
      "source": [
        "# afficher les premières lignes de tableau\n",
        "head(data_model)\n",
        "# afficher la structure génerale\n",
        "str(data_model)\n",
        "#type de l'objet\n",
        "class(data_model)\n",
        "#type interne des élements\n",
        "typeof(data_model)\n",
        "#noms des colones et lignes\n",
        "colnames(data_model)\n",
        "rownames(data_model)\n"
      ],
      "metadata": {
        "colab": {
          "base_uri": "https://localhost:8080/",
          "height": 564
        },
        "id": "f95cy_yUWrF1",
        "outputId": "76876ca4-1862-4096-8693-304f37f57da7"
      },
      "execution_count": 13,
      "outputs": [
        {
          "output_type": "display_data",
          "data": {
            "text/html": [
              "<table class=\"dataframe\">\n",
              "<caption>A tibble: 6 × 10</caption>\n",
              "<thead>\n",
              "\t<tr><th scope=col>Semestre</th><th scope=col>MT</th><th scope=col>RG</th><th scope=col>PRIX</th><th scope=col>BR</th><th scope=col>INV</th><th scope=col>PUB</th><th scope=col>FV</th><th scope=col>TPUB</th><th scope=col>VENTES</th></tr>\n",
              "\t<tr><th scope=col>&lt;dbl&gt;</th><th scope=col>&lt;dbl&gt;</th><th scope=col>&lt;dbl&gt;</th><th scope=col>&lt;dbl&gt;</th><th scope=col>&lt;dbl&gt;</th><th scope=col>&lt;dbl&gt;</th><th scope=col>&lt;dbl&gt;</th><th scope=col>&lt;dbl&gt;</th><th scope=col>&lt;dbl&gt;</th><th scope=col>&lt;dbl&gt;</th></tr>\n",
              "</thead>\n",
              "<tbody>\n",
              "\t<tr><td>1</td><td>398</td><td>138</td><td>56</td><td>12</td><td> 50</td><td>77</td><td>229</td><td> 98</td><td>5540</td></tr>\n",
              "\t<tr><td>2</td><td>369</td><td>118</td><td>59</td><td> 9</td><td> 17</td><td>89</td><td>177</td><td>225</td><td>5439</td></tr>\n",
              "\t<tr><td>3</td><td>268</td><td>129</td><td>57</td><td>29</td><td> 89</td><td>51</td><td>166</td><td>263</td><td>4290</td></tr>\n",
              "\t<tr><td>4</td><td>484</td><td>111</td><td>58</td><td>13</td><td>107</td><td>40</td><td>258</td><td>321</td><td>5502</td></tr>\n",
              "\t<tr><td>5</td><td>394</td><td>146</td><td>59</td><td>13</td><td>143</td><td>52</td><td>209</td><td>407</td><td>4872</td></tr>\n",
              "\t<tr><td>6</td><td>332</td><td>140</td><td>60</td><td>11</td><td> 61</td><td>21</td><td>180</td><td>247</td><td>4708</td></tr>\n",
              "</tbody>\n",
              "</table>\n"
            ],
            "text/markdown": "\nA tibble: 6 × 10\n\n| Semestre &lt;dbl&gt; | MT &lt;dbl&gt; | RG &lt;dbl&gt; | PRIX &lt;dbl&gt; | BR &lt;dbl&gt; | INV &lt;dbl&gt; | PUB &lt;dbl&gt; | FV &lt;dbl&gt; | TPUB &lt;dbl&gt; | VENTES &lt;dbl&gt; |\n|---|---|---|---|---|---|---|---|---|---|\n| 1 | 398 | 138 | 56 | 12 |  50 | 77 | 229 |  98 | 5540 |\n| 2 | 369 | 118 | 59 |  9 |  17 | 89 | 177 | 225 | 5439 |\n| 3 | 268 | 129 | 57 | 29 |  89 | 51 | 166 | 263 | 4290 |\n| 4 | 484 | 111 | 58 | 13 | 107 | 40 | 258 | 321 | 5502 |\n| 5 | 394 | 146 | 59 | 13 | 143 | 52 | 209 | 407 | 4872 |\n| 6 | 332 | 140 | 60 | 11 |  61 | 21 | 180 | 247 | 4708 |\n\n",
            "text/latex": "A tibble: 6 × 10\n\\begin{tabular}{llllllllll}\n Semestre & MT & RG & PRIX & BR & INV & PUB & FV & TPUB & VENTES\\\\\n <dbl> & <dbl> & <dbl> & <dbl> & <dbl> & <dbl> & <dbl> & <dbl> & <dbl> & <dbl>\\\\\n\\hline\n\t 1 & 398 & 138 & 56 & 12 &  50 & 77 & 229 &  98 & 5540\\\\\n\t 2 & 369 & 118 & 59 &  9 &  17 & 89 & 177 & 225 & 5439\\\\\n\t 3 & 268 & 129 & 57 & 29 &  89 & 51 & 166 & 263 & 4290\\\\\n\t 4 & 484 & 111 & 58 & 13 & 107 & 40 & 258 & 321 & 5502\\\\\n\t 5 & 394 & 146 & 59 & 13 & 143 & 52 & 209 & 407 & 4872\\\\\n\t 6 & 332 & 140 & 60 & 11 &  61 & 21 & 180 & 247 & 4708\\\\\n\\end{tabular}\n",
            "text/plain": [
              "  Semestre MT  RG  PRIX BR INV PUB FV  TPUB VENTES\n",
              "1 1        398 138 56   12  50 77  229  98  5540  \n",
              "2 2        369 118 59    9  17 89  177 225  5439  \n",
              "3 3        268 129 57   29  89 51  166 263  4290  \n",
              "4 4        484 111 58   13 107 40  258 321  5502  \n",
              "5 5        394 146 59   13 143 52  209 407  4872  \n",
              "6 6        332 140 60   11  61 21  180 247  4708  "
            ]
          },
          "metadata": {}
        },
        {
          "output_type": "stream",
          "name": "stdout",
          "text": [
            "tibble [38 × 10] (S3: tbl_df/tbl/data.frame)\n",
            " $ Semestre: num [1:38] 1 2 3 4 5 6 7 8 9 10 ...\n",
            " $ MT      : num [1:38] 398 369 268 484 394 332 336 383 285 277 ...\n",
            " $ RG      : num [1:38] 138 118 129 111 146 140 136 104 105 135 ...\n",
            " $ PRIX    : num [1:38] 56 59 57 58 59 60 60 60 63 62 ...\n",
            " $ BR      : num [1:38] 12 9 29 13 13 11 25 21 8 11 ...\n",
            " $ INV     : num [1:38] 50 17 89 107 143 61 -30 -45 -28 76 ...\n",
            " $ PUB     : num [1:38] 77 89 51 40 52 21 40 32 12 68 ...\n",
            " $ FV      : num [1:38] 229 177 166 258 209 180 213 201 176 175 ...\n",
            " $ TPUB    : num [1:38] 98 225 263 321 407 247 328 298 218 410 ...\n",
            " $ VENTES  : num [1:38] 5540 5439 4290 5502 4872 ...\n"
          ]
        },
        {
          "output_type": "display_data",
          "data": {
            "text/html": [
              "<style>\n",
              ".list-inline {list-style: none; margin:0; padding: 0}\n",
              ".list-inline>li {display: inline-block}\n",
              ".list-inline>li:not(:last-child)::after {content: \"\\00b7\"; padding: 0 .5ex}\n",
              "</style>\n",
              "<ol class=list-inline><li>'tbl_df'</li><li>'tbl'</li><li>'data.frame'</li></ol>\n"
            ],
            "text/markdown": "1. 'tbl_df'\n2. 'tbl'\n3. 'data.frame'\n\n\n",
            "text/latex": "\\begin{enumerate*}\n\\item 'tbl\\_df'\n\\item 'tbl'\n\\item 'data.frame'\n\\end{enumerate*}\n",
            "text/plain": [
              "[1] \"tbl_df\"     \"tbl\"        \"data.frame\""
            ]
          },
          "metadata": {}
        },
        {
          "output_type": "display_data",
          "data": {
            "text/html": [
              "'list'"
            ],
            "text/markdown": "'list'",
            "text/latex": "'list'",
            "text/plain": [
              "[1] \"list\""
            ]
          },
          "metadata": {}
        },
        {
          "output_type": "display_data",
          "data": {
            "text/html": [
              "<style>\n",
              ".list-inline {list-style: none; margin:0; padding: 0}\n",
              ".list-inline>li {display: inline-block}\n",
              ".list-inline>li:not(:last-child)::after {content: \"\\00b7\"; padding: 0 .5ex}\n",
              "</style>\n",
              "<ol class=list-inline><li>'Semestre'</li><li>'MT'</li><li>'RG'</li><li>'PRIX'</li><li>'BR'</li><li>'INV'</li><li>'PUB'</li><li>'FV'</li><li>'TPUB'</li><li>'VENTES'</li></ol>\n"
            ],
            "text/markdown": "1. 'Semestre'\n2. 'MT'\n3. 'RG'\n4. 'PRIX'\n5. 'BR'\n6. 'INV'\n7. 'PUB'\n8. 'FV'\n9. 'TPUB'\n10. 'VENTES'\n\n\n",
            "text/latex": "\\begin{enumerate*}\n\\item 'Semestre'\n\\item 'MT'\n\\item 'RG'\n\\item 'PRIX'\n\\item 'BR'\n\\item 'INV'\n\\item 'PUB'\n\\item 'FV'\n\\item 'TPUB'\n\\item 'VENTES'\n\\end{enumerate*}\n",
            "text/plain": [
              " [1] \"Semestre\" \"MT\"       \"RG\"       \"PRIX\"     \"BR\"       \"INV\"     \n",
              " [7] \"PUB\"      \"FV\"       \"TPUB\"     \"VENTES\"  "
            ]
          },
          "metadata": {}
        },
        {
          "output_type": "display_data",
          "data": {
            "text/html": [
              "<style>\n",
              ".list-inline {list-style: none; margin:0; padding: 0}\n",
              ".list-inline>li {display: inline-block}\n",
              ".list-inline>li:not(:last-child)::after {content: \"\\00b7\"; padding: 0 .5ex}\n",
              "</style>\n",
              "<ol class=list-inline><li>'1'</li><li>'2'</li><li>'3'</li><li>'4'</li><li>'5'</li><li>'6'</li><li>'7'</li><li>'8'</li><li>'9'</li><li>'10'</li><li>'11'</li><li>'12'</li><li>'13'</li><li>'14'</li><li>'15'</li><li>'16'</li><li>'17'</li><li>'18'</li><li>'19'</li><li>'20'</li><li>'21'</li><li>'22'</li><li>'23'</li><li>'24'</li><li>'25'</li><li>'26'</li><li>'27'</li><li>'28'</li><li>'29'</li><li>'30'</li><li>'31'</li><li>'32'</li><li>'33'</li><li>'34'</li><li>'35'</li><li>'36'</li><li>'37'</li><li>'38'</li></ol>\n"
            ],
            "text/markdown": "1. '1'\n2. '2'\n3. '3'\n4. '4'\n5. '5'\n6. '6'\n7. '7'\n8. '8'\n9. '9'\n10. '10'\n11. '11'\n12. '12'\n13. '13'\n14. '14'\n15. '15'\n16. '16'\n17. '17'\n18. '18'\n19. '19'\n20. '20'\n21. '21'\n22. '22'\n23. '23'\n24. '24'\n25. '25'\n26. '26'\n27. '27'\n28. '28'\n29. '29'\n30. '30'\n31. '31'\n32. '32'\n33. '33'\n34. '34'\n35. '35'\n36. '36'\n37. '37'\n38. '38'\n\n\n",
            "text/latex": "\\begin{enumerate*}\n\\item '1'\n\\item '2'\n\\item '3'\n\\item '4'\n\\item '5'\n\\item '6'\n\\item '7'\n\\item '8'\n\\item '9'\n\\item '10'\n\\item '11'\n\\item '12'\n\\item '13'\n\\item '14'\n\\item '15'\n\\item '16'\n\\item '17'\n\\item '18'\n\\item '19'\n\\item '20'\n\\item '21'\n\\item '22'\n\\item '23'\n\\item '24'\n\\item '25'\n\\item '26'\n\\item '27'\n\\item '28'\n\\item '29'\n\\item '30'\n\\item '31'\n\\item '32'\n\\item '33'\n\\item '34'\n\\item '35'\n\\item '36'\n\\item '37'\n\\item '38'\n\\end{enumerate*}\n",
            "text/plain": [
              " [1] \"1\"  \"2\"  \"3\"  \"4\"  \"5\"  \"6\"  \"7\"  \"8\"  \"9\"  \"10\" \"11\" \"12\" \"13\" \"14\" \"15\"\n",
              "[16] \"16\" \"17\" \"18\" \"19\" \"20\" \"21\" \"22\" \"23\" \"24\" \"25\" \"26\" \"27\" \"28\" \"29\" \"30\"\n",
              "[31] \"31\" \"32\" \"33\" \"34\" \"35\" \"36\" \"37\" \"38\""
            ]
          },
          "metadata": {}
        }
      ]
    },
    {
      "cell_type": "markdown",
      "source": [
        "On a deux méthodes qui peut utiliser pour la sélection de modéles dans R car le nombre des variables est inférieur a 50\n",
        "\n",
        "\n",
        "*   sélection des meilleur sous-ensembles\n",
        " ( best-subsets-regression)\n",
        "*   Sélection par étapes\n",
        "( stepwise-regression )\n",
        "\n"
      ],
      "metadata": {
        "id": "EdH22hlTVhyG"
      }
    },
    {
      "cell_type": "markdown",
      "source": [
        "# Sélection des meilleur sous-ensembles (best-subsets-regression)"
      ],
      "metadata": {
        "id": "K1LZI-GmYHTW"
      }
    },
    {
      "cell_type": "code",
      "source": [
        "# installation des packages\n",
        "install.packages(\"leaps\") # Pour la selection de variable dans le modéles de régression\n",
        "library(leaps)\n",
        "set.seed(123) # fixer la graine du génerateur de nombres aléatoires"
      ],
      "metadata": {
        "colab": {
          "base_uri": "https://localhost:8080/"
        },
        "id": "AcLwZchXWlbm",
        "outputId": "52b3a996-a1c8-4585-ff0c-5d93b8589ba8"
      },
      "execution_count": 11,
      "outputs": [
        {
          "output_type": "stream",
          "name": "stderr",
          "text": [
            "Installing package into ‘/usr/local/lib/R/site-library’\n",
            "(as ‘lib’ is unspecified)\n",
            "\n"
          ]
        }
      ]
    },
    {
      "cell_type": "code",
      "source": [
        "# le modèle qui contient toutes les variables\n",
        "bestsub_model <- regsubsets ( VENTES ~ MT + RG + PRIX + BR +INV + PUB +FV + TPUB , data = data_model , nvmax = 8 )\n",
        "#  description de modèle\n",
        "summary(bestsub_model)"
      ],
      "metadata": {
        "colab": {
          "base_uri": "https://localhost:8080/",
          "height": 434
        },
        "id": "5sxBf9uFaefA",
        "outputId": "be6d45a0-cf20-43af-c11c-908172c520f2"
      },
      "execution_count": 15,
      "outputs": [
        {
          "output_type": "display_data",
          "data": {
            "text/plain": [
              "Subset selection object\n",
              "Call: regsubsets.formula(VENTES ~ MT + RG + PRIX + BR + INV + PUB + \n",
              "    FV + TPUB, data = data_model, nvmax = 8)\n",
              "8 Variables  (and intercept)\n",
              "     Forced in Forced out\n",
              "MT       FALSE      FALSE\n",
              "RG       FALSE      FALSE\n",
              "PRIX     FALSE      FALSE\n",
              "BR       FALSE      FALSE\n",
              "INV      FALSE      FALSE\n",
              "PUB      FALSE      FALSE\n",
              "FV       FALSE      FALSE\n",
              "TPUB     FALSE      FALSE\n",
              "1 subsets of each size up to 8\n",
              "Selection Algorithm: exhaustive\n",
              "         MT  RG  PRIX BR  INV PUB FV  TPUB\n",
              "1  ( 1 ) \"*\" \" \" \" \"  \" \" \" \" \" \" \" \" \" \" \n",
              "2  ( 1 ) \"*\" \" \" \" \"  \" \" \" \" \"*\" \" \" \" \" \n",
              "3  ( 1 ) \"*\" \" \" \" \"  \" \" \"*\" \"*\" \" \" \" \" \n",
              "4  ( 1 ) \"*\" \" \" \"*\"  \" \" \"*\" \"*\" \" \" \" \" \n",
              "5  ( 1 ) \"*\" \"*\" \"*\"  \" \" \"*\" \"*\" \" \" \" \" \n",
              "6  ( 1 ) \"*\" \"*\" \"*\"  \" \" \"*\" \"*\" \"*\" \" \" \n",
              "7  ( 1 ) \"*\" \"*\" \"*\"  \"*\" \"*\" \"*\" \"*\" \" \" \n",
              "8  ( 1 ) \"*\" \"*\" \"*\"  \"*\" \"*\" \"*\" \"*\" \"*\" "
            ]
          },
          "metadata": {}
        }
      ]
    },
    {
      "cell_type": "code",
      "source": [
        "# performance de modele\n",
        "cbind (\n",
        "  cp = summary(bestsub_model)$cp, # Critère de Mallows (CP)\n",
        "  r2 = summary(bestsub_model)$rsq,  # Coefficient de détermination (R²)\n",
        "  adj_r2 = summary(bestsub_model)$adjr2, # R² ajusté\n",
        "  BIC = summary(bestsub_model)$bic # Critère d'information bayésien (BIC)\n",
        ")"
      ],
      "metadata": {
        "colab": {
          "base_uri": "https://localhost:8080/",
          "height": 317
        },
        "id": "SPUzI0R1ce2Z",
        "outputId": "5c37d7b8-cfe2-40bd-d6f1-2a5711f5e2a4"
      },
      "execution_count": 54,
      "outputs": [
        {
          "output_type": "display_data",
          "data": {
            "text/html": [
              "<table class=\"dataframe\">\n",
              "<caption>A matrix: 8 × 4 of type dbl</caption>\n",
              "<thead>\n",
              "\t<tr><th scope=col>cp</th><th scope=col>r2</th><th scope=col>adj_r2</th><th scope=col>BIC</th></tr>\n",
              "</thead>\n",
              "<tbody>\n",
              "\t<tr><td>35.9455342</td><td>0.5195676</td><td>0.5062222</td><td>-20.58144</td></tr>\n",
              "\t<tr><td>10.7563945</td><td>0.7063207</td><td>0.6895390</td><td>-35.64738</td></tr>\n",
              "\t<tr><td> 2.5446890</td><td>0.7764614</td><td>0.7567375</td><td>-42.38017</td></tr>\n",
              "\t<tr><td> 0.7694286</td><td>0.8023924</td><td>0.7784400</td><td>-43.42802</td></tr>\n",
              "\t<tr><td> 2.4966798</td><td>0.8042659</td><td>0.7736824</td><td>-40.15241</td></tr>\n",
              "\t<tr><td> 4.3178929</td><td>0.8054939</td><td>0.7678475</td><td>-36.75398</td></tr>\n",
              "\t<tr><td> 6.0416418</td><td>0.8073914</td><td>0.7624494</td><td>-33.48892</td></tr>\n",
              "\t<tr><td> 8.0004351</td><td>0.8076744</td><td>0.7546191</td><td>-29.90721</td></tr>\n",
              "</tbody>\n",
              "</table>\n"
            ],
            "text/markdown": "\nA matrix: 8 × 4 of type dbl\n\n| cp | r2 | adj_r2 | BIC |\n|---|---|---|---|\n| 35.9455342 | 0.5195676 | 0.5062222 | -20.58144 |\n| 10.7563945 | 0.7063207 | 0.6895390 | -35.64738 |\n|  2.5446890 | 0.7764614 | 0.7567375 | -42.38017 |\n|  0.7694286 | 0.8023924 | 0.7784400 | -43.42802 |\n|  2.4966798 | 0.8042659 | 0.7736824 | -40.15241 |\n|  4.3178929 | 0.8054939 | 0.7678475 | -36.75398 |\n|  6.0416418 | 0.8073914 | 0.7624494 | -33.48892 |\n|  8.0004351 | 0.8076744 | 0.7546191 | -29.90721 |\n\n",
            "text/latex": "A matrix: 8 × 4 of type dbl\n\\begin{tabular}{llll}\n cp & r2 & adj\\_r2 & BIC\\\\\n\\hline\n\t 35.9455342 & 0.5195676 & 0.5062222 & -20.58144\\\\\n\t 10.7563945 & 0.7063207 & 0.6895390 & -35.64738\\\\\n\t  2.5446890 & 0.7764614 & 0.7567375 & -42.38017\\\\\n\t  0.7694286 & 0.8023924 & 0.7784400 & -43.42802\\\\\n\t  2.4966798 & 0.8042659 & 0.7736824 & -40.15241\\\\\n\t  4.3178929 & 0.8054939 & 0.7678475 & -36.75398\\\\\n\t  6.0416418 & 0.8073914 & 0.7624494 & -33.48892\\\\\n\t  8.0004351 & 0.8076744 & 0.7546191 & -29.90721\\\\\n\\end{tabular}\n",
            "text/plain": [
              "     cp         r2        adj_r2    BIC      \n",
              "[1,] 35.9455342 0.5195676 0.5062222 -20.58144\n",
              "[2,] 10.7563945 0.7063207 0.6895390 -35.64738\n",
              "[3,]  2.5446890 0.7764614 0.7567375 -42.38017\n",
              "[4,]  0.7694286 0.8023924 0.7784400 -43.42802\n",
              "[5,]  2.4966798 0.8042659 0.7736824 -40.15241\n",
              "[6,]  4.3178929 0.8054939 0.7678475 -36.75398\n",
              "[7,]  6.0416418 0.8073914 0.7624494 -33.48892\n",
              "[8,]  8.0004351 0.8076744 0.7546191 -29.90721"
            ]
          },
          "metadata": {}
        }
      ]
    },
    {
      "cell_type": "code",
      "source": [
        "predict.regsubsets <- function ( objects , newdata , id , ...){\n",
        "  form <- as.formula(objects$call[[2]]) # Récupérer la formule du modèle\n",
        "  mat <- model.matrix( form , newdata) # Créer la matrice des prédicteurs\n",
        "  coefi <- coef(objects , id = id )  # Extraire les coefficients du modèle sélectionné\n",
        "  mat[, names (coefi),drop = FALSE]%*% coefi   # Calculer la prédiction (produit matriciel)\n",
        "}"
      ],
      "metadata": {
        "id": "uxQNT_Hwc_MB"
      },
      "execution_count": 67,
      "outputs": []
    },
    {
      "cell_type": "markdown",
      "source": [
        "En utilse $call pour\n"
      ],
      "metadata": {
        "id": "l1RTCC-98r1L"
      }
    },
    {
      "cell_type": "code",
      "source": [
        "bestsub_model$call[[4]]  # \"nvmax = 8\" (le nombre max de variables)\n",
        "bestsub_model$call[[3]]  # \"data = df\" (les données)\n",
        "bestsub_model$call[[2]]  # \"y ~ x1 + x2 + x3\" (la formule)\n",
        "bestsub_model$call[[1]]  # \"regsubsets\" (le nom de la fonction)"
      ],
      "metadata": {
        "colab": {
          "base_uri": "https://localhost:8080/",
          "height": 86
        },
        "id": "v_MuYo-F8aSd",
        "outputId": "eff5b08c-6cca-4a8d-95f6-00f42e681fc0"
      },
      "execution_count": 60,
      "outputs": [
        {
          "output_type": "display_data",
          "data": {
            "text/html": [
              "8"
            ],
            "text/markdown": "8",
            "text/latex": "8",
            "text/plain": [
              "[1] 8"
            ]
          },
          "metadata": {}
        },
        {
          "output_type": "display_data",
          "data": {
            "text/plain": [
              "data_model"
            ]
          },
          "metadata": {}
        },
        {
          "output_type": "display_data",
          "data": {
            "text/plain": [
              "VENTES ~ ."
            ]
          },
          "metadata": {}
        },
        {
          "output_type": "display_data",
          "data": {
            "text/plain": [
              "regsubsets.formula"
            ]
          },
          "metadata": {}
        }
      ]
    },
    {
      "cell_type": "markdown",
      "source": [
        "## Utilisation de regsubsets() avec la Validation Croisée\n",
        "\n",
        "\n"
      ],
      "metadata": {
        "id": "Y-SOYITCGl36"
      }
    },
    {
      "cell_type": "code",
      "source": [
        "jk.errors <- matrix(NA , 38, 8) #Cette matrice stockera les erreurs quadratiques pour chaque observation et chaque modèle.\n",
        "#On fait une boucle sur chaque observation k, qui sera temporairement exclue pour tester la performance du modèle.\n",
        "for (k in 1:38) {\n",
        "   best.model.cv <- regsubsets ( VENTES ~ MT + RG + PRIX + BR +INV + PUB +FV + TPUB , data = (data_model [-k, ]) , #Cela simule l'effet de laisser une observation de côté pour la validation\n",
        "    nvmax = 8 )\n",
        "    #On teste tous les modèles, en sélectionnant de 1 à 8 variables.\n",
        "   for ( i in 1:8) {\n",
        "    pred <- predict ( best.model.cv , data_model [k,], id = i )\n",
        "    jk.errors [k,i] <- (data_model$VENTES[k]- pred )^2\n",
        "   }\n",
        "}\n"
      ],
      "metadata": {
        "id": "7YN1dgXJgEkx"
      },
      "execution_count": 99,
      "outputs": []
    },
    {
      "cell_type": "markdown",
      "source": [
        "# Affichage du modèle optimal"
      ],
      "metadata": {
        "id": "GUOHD6aPIJxR"
      }
    },
    {
      "cell_type": "code",
      "source": [
        "best_model <- which.min(mean_errors)\n",
        "cat(\"Le meilleur modèle sélectionne\", best_model, \"variables avec une erreur moyenne de\", mean_errors[best_model], \"\\n\")\n"
      ],
      "metadata": {
        "colab": {
          "base_uri": "https://localhost:8080/"
        },
        "id": "HuTyW3ATBlre",
        "outputId": "eed3d52b-85b6-4806-c69d-44379f4e3e48"
      },
      "execution_count": 83,
      "outputs": [
        {
          "output_type": "stream",
          "name": "stdout",
          "text": [
            "Le meilleur modèle sélectionne 4 variables avec une erreur moyenne de 66726.31 \n"
          ]
        }
      ]
    },
    {
      "cell_type": "markdown",
      "source": [
        "# Tracer l'évolution de l'erreur quadratique moyenne en fonction du nombre de variables"
      ],
      "metadata": {
        "id": "YeyT5ue-IS85"
      }
    },
    {
      "cell_type": "code",
      "source": [
        "# Calculer l'erreur quadratique moyenne (MSE) pour chaque modèle (1 à 8 variables)\n",
        "mse_model <- apply ( jk_errors , 2 , mean )\n",
        "print(mse_model)"
      ],
      "metadata": {
        "colab": {
          "base_uri": "https://localhost:8080/"
        },
        "id": "ZPGGUMOuiruj",
        "outputId": "ced1766a-5b17-4ebd-9432-c4ef9c6c0e9b"
      },
      "execution_count": 109,
      "outputs": [
        {
          "output_type": "stream",
          "name": "stdout",
          "text": [
            "[1] 137222.00  86947.60  81847.01  66726.31  80642.61  88458.50  87787.55\n",
            "[8]  91406.61\n"
          ]
        }
      ]
    },
    {
      "cell_type": "code",
      "source": [
        "plot(mse_model, pch = 4 ,\n",
        " type = \"b\" ,\n",
        " main=\"Erreur quadratique moyenne en fonction du nombre de variables\",\n",
        "  xlab = \"Nombre de variables sélectionnées\" ,\n",
        "   ylab = \"Erreur quadratique moyenne (MSE)\")"
      ],
      "metadata": {
        "colab": {
          "base_uri": "https://localhost:8080/",
          "height": 437
        },
        "id": "wNyT4dP8i4Wi",
        "outputId": "4f914792-d112-438a-d257-404b17c40135"
      },
      "execution_count": 106,
      "outputs": [
        {
          "output_type": "display_data",
          "data": {
            "text/plain": [
              "Plot with title “Erreur quadratique moyenne en fonction du nombre de variables”"
            ],
            "image/png": "[encoded data removed]"
          },
          "metadata": {
            "image/png": {
              "width": 420,
              "height": 420
            }
          }
        }
      ]
    },
    {
      "cell_type": "markdown",
      "source": [
        "# Tracer la distribution des l'erreur quadratiques"
      ],
      "metadata": {
        "id": "nPVlv9PaIVuh"
      }
    },
    {
      "cell_type": "code",
      "source": [
        "boxplot(jk.errors ,main = \"Distribution des erreurs quadratiques\",\n",
        "        xlab = \"Nombre de variables sélectionnées\", ylab = \"Erreur quadratique\")\n"
      ],
      "metadata": {
        "colab": {
          "base_uri": "https://localhost:8080/",
          "height": 437
        },
        "id": "07QF32cZCmLn",
        "outputId": "da3c36ef-8bf9-4639-d74c-70abc6d07a18"
      },
      "execution_count": 93,
      "outputs": [
        {
          "output_type": "display_data",
          "data": {
            "text/plain": [
              "Plot with title “Distribution des erreurs quadratiques”"
            ],
            "image/png": "[encoded data removed]"
          },
          "metadata": {
            "image/png": {
              "width": 420,
              "height": 420
            }
          }
        }
      ]
    },
    {
      "cell_type": "code",
      "source": [
        "which.min(mse_model)"
      ],
      "metadata": {
        "colab": {
          "base_uri": "https://localhost:8080/",
          "height": 34
        },
        "id": "muGY5k8ojlMS",
        "outputId": "080d3946-b54c-4ce5-d398-4c3e9e1b3467"
      },
      "execution_count": 71,
      "outputs": [
        {
          "output_type": "display_data",
          "data": {
            "text/html": [
              "4"
            ],
            "text/markdown": "4",
            "text/latex": "4",
            "text/plain": [
              "[1] 4"
            ]
          },
          "metadata": {}
        }
      ]
    },
    {
      "cell_type": "code",
      "source": [
        "best_model_size <- 4\n",
        "best_cofs <- coef(bestsub_model , id = best_model_size)\n",
        "print(best_cofs)"
      ],
      "metadata": {
        "colab": {
          "base_uri": "https://localhost:8080/"
        },
        "id": "iTArlbB-jxVz",
        "outputId": "4631347b-aa98-4700-a952-f916c516a7da"
      },
      "execution_count": 72,
      "outputs": [
        {
          "output_type": "stream",
          "name": "stdout",
          "text": [
            "(Intercept)    Semestre          MT         INV         PUB \n",
            "2560.215738   -9.321243    5.218351    1.963164    8.259711 \n"
          ]
        }
      ]
    },
    {
      "cell_type": "code",
      "source": [
        "new_data <- data.frame(MT = 755, PRIX = 150, INV = 93, PUB = 508)\n",
        "\n",
        "# Construire la prédiction avec produit matriciel\n",
        "X <- c(1, new_data$MT, new_data$PRIX, new_data$INV, new_data$PUB)\n",
        "prediction <- sum(best_cofs * X)\n",
        "\n",
        "cat(\"Prédiction pour les ventes sera:\", prediction)\n",
        "\n"
      ],
      "metadata": {
        "colab": {
          "base_uri": "https://localhost:8080/"
        },
        "id": "Ciyr3gyaFh6P",
        "outputId": "b6c6a6c6-5ba8-4931-a4db-8a7764070844"
      },
      "execution_count": 104,
      "outputs": [
        {
          "output_type": "stream",
          "name": "stdout",
          "text": [
            "Prédiction pour les ventes sera: 683.9371"
          ]
        }
      ]
    }
  ]
}